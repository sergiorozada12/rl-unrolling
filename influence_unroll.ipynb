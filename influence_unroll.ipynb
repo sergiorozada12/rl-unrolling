{
 "cells": [
  {
   "cell_type": "code",
   "execution_count": null,
   "id": "065f95ac",
   "metadata": {},
   "outputs": [],
   "source": [
    "from pytorch_lightning import Trainer\n",
    "from lightning.pytorch.loggers import WandbLogger\n",
    "from pytorch_lightning.strategies import DDPStrategy\n",
    "from time import perf_counter\n",
    "import wandb\n",
    "import numpy as np\n",
    "\n",
    "import torch\n",
    "torch.set_float32_matmul_precision('medium')\n",
    "\n",
    "from src.algorithms.unrolling_policy_iteration import UnrollingPolicyIterationTrain\n",
    "from src.environments import CliffWalkingEnv\n",
    "from src.algorithms.generalized_policy_iteration import PolicyIterationTrain\n",
    "from src.utils import get_optimal_q, test_pol_err, plot_errors\n",
    "\n",
    "GROUP_NAME = \"N_Unrolls\"\n",
    "SAVE = False\n",
    "PATH = \"results/n_unrolls/\""
   ]
  },
  {
   "cell_type": "markdown",
   "id": "f5b72fbe",
   "metadata": {},
   "source": [
    "## Auxiliary functions"
   ]
  },
  {
   "cell_type": "code",
   "execution_count": 2,
   "id": "cc7ac370",
   "metadata": {},
   "outputs": [],
   "source": [
    "def run(g, N_unrolls, Exps, q_opt, use_logger=True, log_every_n_steps=1, verbose=False):\n",
    "    err1 = np.zeros((len(Exps), N_unrolls.size))\n",
    "    err2 = np.zeros((len(Exps), N_unrolls.size))\n",
    "    bell_err = np.zeros((len(Exps), N_unrolls.size))\n",
    "    \n",
    "    use_logger = use_logger and g == 0\n",
    "\n",
    "    for i, n_unrolls in enumerate(N_unrolls):\n",
    "        n_unrolls = int(n_unrolls)\n",
    "        for j, exp in enumerate(Exps):\n",
    "            env = CliffWalkingEnv()\n",
    "\n",
    "            if exp[\"model\"] == \"unroll\":\n",
    "                model = UnrollingPolicyIterationTrain(env=env, env_test=env, num_unrolls=n_unrolls, **exp[\"args\"])\n",
    "                if use_logger:\n",
    "                    logger = WandbLogger(project=\"rl-unrolling\", name=f\"{exp['name']}-{n_unrolls}unrolls\",\n",
    "                                         group=GROUP_NAME)\n",
    "                else:\n",
    "                    logger = False\n",
    "                trainer = Trainer(max_epochs=2000, log_every_n_steps=log_every_n_steps, accelerator=\"auto\", logger=logger)\n",
    "                # trainer = Trainer(max_epochs=5000, log_every_n_steps=log_every_n_steps, accelerator=\"auto\",\n",
    "                #                   strategy=DDPStrategy(find_unused_parameters=True), logger=logger)\n",
    "\n",
    "            elif exp[\"model\"] == \"pol-it\":\n",
    "                model = PolicyIterationTrain(env=env, **exp[\"args\"])\n",
    "                if use_logger:\n",
    "                    logger = WandbLogger(project=\"rl-unrolling\", name=f\"{exp['name']}-{n_unrolls}impr\",\n",
    "                                         group=GROUP_NAME)\n",
    "                else:\n",
    "                    logger = False\n",
    "                trainer = Trainer(max_epochs=n_unrolls, log_every_n_steps=log_every_n_steps, accelerator='cpu', logger=logger)\n",
    "            else:\n",
    "                raise Exception(\"Unknown model\")\n",
    "\n",
    "            trainer.fit(model)\n",
    "            wandb.finish()\n",
    "\n",
    "            err1[j,i], err2[j,i] = test_pol_err(model, q_opt)\n",
    "            bell_err[j,i] = model.bellman_error.cpu().numpy()\n",
    "\n",
    "            if verbose:\n",
    "                print(f\"- {g}. Unrolls {n_unrolls}: Model: {exp[\"name\"]} Err1: {err1[j,i]:.3f} | bell_err: {bell_err[j,i]:.3f}\")\n",
    "    return err1, err2, bell_err\n"
   ]
  },
  {
   "cell_type": "markdown",
   "id": "bf464e07",
   "metadata": {},
   "source": [
    "## Running different models"
   ]
  },
  {
   "cell_type": "code",
   "execution_count": 3,
   "id": "4bd6cf71",
   "metadata": {},
   "outputs": [
    {
     "name": "stderr",
     "output_type": "stream",
     "text": [
      "💡 Tip: For seamless cloud uploads and versioning, try installing [litmodels](https://pypi.org/project/litmodels/) to enable LitModelCheckpoint, which syncs automatically with the Lightning model registry.\n"
     ]
    },
    {
     "name": "stderr",
     "output_type": "stream",
     "text": [
      "GPU available: True (cuda), used: False\n",
      "TPU available: False, using: 0 TPU cores\n",
      "HPU available: False, using: 0 HPUs\n",
      "/home/srey/Investigacion/rl-unrolling/.venv/lib/python3.12/site-packages/pytorch_lightning/trainer/setup.py:177: GPU available but not used. You can set it by doing `Trainer(accelerator='gpu')`.\n",
      "/home/srey/Investigacion/rl-unrolling/.venv/lib/python3.12/site-packages/pytorch_lightning/callbacks/model_checkpoint.py:658: Checkpoint directory /home/srey/Investigacion/rl-unrolling/checkpoints exists and is not empty.\n",
      "/home/srey/Investigacion/rl-unrolling/.venv/lib/python3.12/site-packages/pytorch_lightning/core/optimizer.py:183: `LightningModule.configure_optimizers` returned `None`, this fit will run with no optimizer\n",
      "\n",
      "  | Name | Type | Params | Mode\n",
      "-------------------------------------\n",
      "-------------------------------------\n",
      "0         Trainable params\n",
      "0         Non-trainable params\n",
      "0         Total params\n",
      "0.000     Total estimated model params size (MB)\n",
      "0         Modules in train mode\n",
      "0         Modules in eval mode\n",
      "/home/srey/Investigacion/rl-unrolling/.venv/lib/python3.12/site-packages/pytorch_lightning/trainer/connectors/data_connector.py:425: The 'train_dataloader' does not have many workers which may be a bottleneck. Consider increasing the value of the `num_workers` argument` to `num_workers=167` in the `DataLoader` to improve performance.\n"
     ]
    },
    {
     "name": "stdout",
     "output_type": "stream",
     "text": [
      "Epoch 14: 100%|██████████| 1/1 [00:00<00:00, 215.09it/s, bellman_error=0.000, policy_diff=0.000, q_norm=709.0]    "
     ]
    },
    {
     "name": "stderr",
     "output_type": "stream",
     "text": [
      "/home/srey/Investigacion/rl-unrolling/.venv/lib/python3.12/site-packages/pytorch_lightning/loops/optimization/automatic.py:134: `training_step` returned `None`. If this was on purpose, ignore this warning...\n"
     ]
    },
    {
     "name": "stdout",
     "output_type": "stream",
     "text": [
      "Epoch 49: 100%|██████████| 1/1 [00:00<00:00, 215.85it/s, bellman_error=0.000, policy_diff=0.000, q_norm=709.0]"
     ]
    },
    {
     "name": "stderr",
     "output_type": "stream",
     "text": [
      "`Trainer.fit` stopped: `max_epochs=50` reached.\n"
     ]
    },
    {
     "name": "stdout",
     "output_type": "stream",
     "text": [
      "Epoch 49: 100%|██████████| 1/1 [00:00<00:00, 120.88it/s, bellman_error=0.000, policy_diff=0.000, q_norm=709.0]\n"
     ]
    }
   ],
   "source": [
    "verbose = True\n",
    "use_logger = False\n",
    "log_every_n_steps = 1\n",
    "\n",
    "N_unrolls = np.array([2, 5, 10])  #np.arange(1,16)\n",
    "Exps = [\n",
    "    {\"model\": \"pol-it\", \"args\": {\"max_eval_iters\": 1}, \"fmt\": \"o-\", \"name\": \"val-it\"},\n",
    "    {\"model\": \"pol-it\", \"args\": {\"max_eval_iters\": 5}, \"fmt\": \"o-\", \"name\": \"pol-it-5eval\"},\n",
    "    {\"model\": \"pol-it\", \"args\": {\"max_eval_iters\": 10}, \"fmt\": \"o-\", \"name\": \"pol-it-10eval\"},\n",
    "    # {\"model\": \"pol-it\", \"args\": {\"max_eval_iters\": 20}, \"name\": \"pol-it-20eval\"},\n",
    "\n",
    "    {\"model\": \"unroll\", \"args\": {\"K\": 5, \"tau\": 5, \"lr\": 5e-3, \"weight_sharing\": True}, \"fmt\": \"o-\", \"name\": \"unr-K5-WS\"},\n",
    "    {\"model\": \"unroll\", \"args\": {\"K\": 10, \"tau\": 5, \"lr\": 5e-3, \"weight_sharing\": True}, \"fmt\": \"o-\", \"name\": \"unr-K10-WS\"},\n",
    "    # {\"model\": \"unroll\", \"args\": {\"K\": 20, \"tau\": 5, \"lr\": 5e-3, \"weight_sharing\": True}, \"name\": \"unr-K20-WS\"},\n",
    "\n",
    "    # # {\"model\": \"unroll\", \"args\": {\"K\": 5, \"tau\": 5, \"lr\": 5e-3, \"weight_sharing\": False}, \"name\": \"unr-5\"},\n",
    "    # {\"model\": \"unroll\", \"args\": {\"K\": 10, \"tau\": 5, \"lr\": 5e-3, \"weight_sharing\": False}, \"name\": \"unr-K10\"},\n",
    "    # {\"model\": \"unroll\", \"args\": {\"K\": 20, \"tau\": 5, \"lr\": 5e-3, \"weight_sharing\": False}, \"name\": \"unr-K20\"},\n",
    "]\n",
    "\n",
    "q_opt = get_optimal_q(use_logger=use_logger, log_every_n_steps=log_every_n_steps)"
   ]
  },
  {
   "cell_type": "code",
   "execution_count": null,
   "id": "90e8876c",
   "metadata": {},
   "outputs": [
    {
     "name": "stderr",
     "output_type": "stream",
     "text": [
      "💡 Tip: For seamless cloud uploads and versioning, try installing [litmodels](https://pypi.org/project/litmodels/) to enable LitModelCheckpoint, which syncs automatically with the Lightning model registry.\n",
      "GPU available: True (cuda), used: False\n",
      "TPU available: False, using: 0 TPU cores\n",
      "HPU available: False, using: 0 HPUs\n",
      "\n",
      "  | Name | Type | Params | Mode\n",
      "-------------------------------------\n",
      "-------------------------------------\n",
      "0         Trainable params\n",
      "0         Non-trainable params\n",
      "0         Total params\n",
      "0.000     Total estimated model params size (MB)\n",
      "0         Modules in train mode\n",
      "0         Modules in eval mode\n"
     ]
    },
    {
     "name": "stdout",
     "output_type": "stream",
     "text": [
      "Epoch 1: 100%|██████████| 1/1 [00:00<00:00, 234.20it/s, bellman_error=0.021, policy_diff=2.000, q_norm=631.0]"
     ]
    },
    {
     "name": "stderr",
     "output_type": "stream",
     "text": [
      "`Trainer.fit` stopped: `max_epochs=2` reached.\n"
     ]
    },
    {
     "name": "stdout",
     "output_type": "stream",
     "text": [
      "Epoch 1: 100%|██████████| 1/1 [00:00<00:00, 110.88it/s, bellman_error=0.021, policy_diff=2.000, q_norm=631.0]\n"
     ]
    },
    {
     "name": "stderr",
     "output_type": "stream",
     "text": [
      "💡 Tip: For seamless cloud uploads and versioning, try installing [litmodels](https://pypi.org/project/litmodels/) to enable LitModelCheckpoint, which syncs automatically with the Lightning model registry.\n",
      "GPU available: True (cuda), used: False\n",
      "TPU available: False, using: 0 TPU cores\n",
      "HPU available: False, using: 0 HPUs\n",
      "\n",
      "  | Name | Type | Params | Mode\n",
      "-------------------------------------\n",
      "-------------------------------------\n",
      "0         Trainable params\n",
      "0         Non-trainable params\n",
      "0         Total params\n",
      "0.000     Total estimated model params size (MB)\n",
      "0         Modules in train mode\n",
      "0         Modules in eval mode\n"
     ]
    },
    {
     "name": "stdout",
     "output_type": "stream",
     "text": [
      "- 0. Unrolls 2: Model: val-it Err1: 2.175 | bell_err: 0.021\n",
      "Epoch 1: 100%|██████████| 1/1 [00:00<00:00, 196.91it/s, bellman_error=0.0166, policy_diff=5.100, q_norm=702.0] "
     ]
    },
    {
     "name": "stderr",
     "output_type": "stream",
     "text": [
      "`Trainer.fit` stopped: `max_epochs=2` reached.\n"
     ]
    },
    {
     "name": "stdout",
     "output_type": "stream",
     "text": [
      "Epoch 1: 100%|██████████| 1/1 [00:00<00:00, 98.52it/s, bellman_error=0.0166, policy_diff=5.100, q_norm=702.0] "
     ]
    },
    {
     "name": "stderr",
     "output_type": "stream",
     "text": [
      "💡 Tip: For seamless cloud uploads and versioning, try installing [litmodels](https://pypi.org/project/litmodels/) to enable LitModelCheckpoint, which syncs automatically with the Lightning model registry.\n",
      "GPU available: True (cuda), used: False\n",
      "TPU available: False, using: 0 TPU cores\n",
      "HPU available: False, using: 0 HPUs\n",
      "\n",
      "  | Name | Type | Params | Mode\n",
      "-------------------------------------\n",
      "-------------------------------------\n",
      "0         Trainable params\n",
      "0         Non-trainable params\n",
      "0         Total params\n",
      "0.000     Total estimated model params size (MB)\n",
      "0         Modules in train mode\n",
      "0         Modules in eval mode\n"
     ]
    },
    {
     "name": "stdout",
     "output_type": "stream",
     "text": [
      "\n",
      "- 0. Unrolls 2: Model: pol-it-5eval Err1: 1.901 | bell_err: 0.017\n",
      "Epoch 1: 100%|██████████| 1/1 [00:00<00:00, 195.00it/s, bellman_error=0.00898, policy_diff=5.480, q_norm=951.0] "
     ]
    },
    {
     "name": "stderr",
     "output_type": "stream",
     "text": [
      "`Trainer.fit` stopped: `max_epochs=2` reached.\n"
     ]
    },
    {
     "name": "stdout",
     "output_type": "stream",
     "text": [
      "Epoch 1: 100%|██████████| 1/1 [00:00<00:00, 99.05it/s, bellman_error=0.00898, policy_diff=5.480, q_norm=951.0] \n"
     ]
    },
    {
     "name": "stderr",
     "output_type": "stream",
     "text": [
      "Trainer will use only 1 of 2 GPUs because it is running inside an interactive / notebook environment. You may try to set `Trainer(devices=2)` but please note that multi-GPU inside interactive / notebook environments is considered experimental and unstable. Your mileage may vary.\n",
      "💡 Tip: For seamless cloud uploads and versioning, try installing [litmodels](https://pypi.org/project/litmodels/) to enable LitModelCheckpoint, which syncs automatically with the Lightning model registry.\n",
      "GPU available: True (cuda), used: True\n",
      "TPU available: False, using: 0 TPU cores\n",
      "HPU available: False, using: 0 HPUs\n",
      "You are using a CUDA device ('NVIDIA GeForce RTX 4090') that has Tensor Cores. To properly utilize them, you should set `torch.set_float32_matmul_precision('medium' | 'high')` which will trade-off precision for performance. For more details, read https://pytorch.org/docs/stable/generated/torch.set_float32_matmul_precision.html#torch.set_float32_matmul_precision\n",
      "LOCAL_RANK: 0 - CUDA_VISIBLE_DEVICES: [0,1]\n"
     ]
    },
    {
     "name": "stdout",
     "output_type": "stream",
     "text": [
      "- 0. Unrolls 2: Model: pol-it-10eval Err1: 1.954 | bell_err: 0.009\n"
     ]
    },
    {
     "name": "stderr",
     "output_type": "stream",
     "text": [
      "\n",
      "  | Name       | Type                         | Params | Mode \n",
      "--------------------------------------------------------------------\n",
      "0 | model      | UnrolledPolicyIterationModel | 6      | train\n",
      "1 | model_test | UnrolledPolicyIterationModel | 6      | train\n",
      "--------------------------------------------------------------------\n",
      "12        Trainable params\n",
      "0         Non-trainable params\n",
      "12        Total params\n",
      "0.000     Total estimated model params size (MB)\n",
      "12        Modules in train mode\n",
      "0         Modules in eval mode\n"
     ]
    },
    {
     "name": "stdout",
     "output_type": "stream",
     "text": [
      "Epoch 1999: 100%|██████████| 1/1 [00:00<00:00, 92.52it/s, reward_smoothness=0.980, bellman_error=26.50, loss=3.650] "
     ]
    },
    {
     "name": "stderr",
     "output_type": "stream",
     "text": [
      "`Trainer.fit` stopped: `max_epochs=2000` reached.\n"
     ]
    },
    {
     "name": "stdout",
     "output_type": "stream",
     "text": [
      "Epoch 1999: 100%|██████████| 1/1 [00:00<00:00, 58.72it/s, reward_smoothness=0.980, bellman_error=26.50, loss=3.650]\n",
      "P_pi is NOT diagonalizable\n"
     ]
    },
    {
     "name": "stderr",
     "output_type": "stream",
     "text": [
      "Trainer will use only 1 of 2 GPUs because it is running inside an interactive / notebook environment. You may try to set `Trainer(devices=2)` but please note that multi-GPU inside interactive / notebook environments is considered experimental and unstable. Your mileage may vary.\n",
      "💡 Tip: For seamless cloud uploads and versioning, try installing [litmodels](https://pypi.org/project/litmodels/) to enable LitModelCheckpoint, which syncs automatically with the Lightning model registry.\n",
      "GPU available: True (cuda), used: True\n",
      "TPU available: False, using: 0 TPU cores\n",
      "HPU available: False, using: 0 HPUs\n",
      "LOCAL_RANK: 0 - CUDA_VISIBLE_DEVICES: [0,1]\n",
      "\n",
      "  | Name       | Type                         | Params | Mode \n",
      "--------------------------------------------------------------------\n",
      "0 | model      | UnrolledPolicyIterationModel | 11     | train\n",
      "1 | model_test | UnrolledPolicyIterationModel | 11     | train\n",
      "--------------------------------------------------------------------\n",
      "22        Trainable params\n",
      "0         Non-trainable params\n",
      "22        Total params\n",
      "0.000     Total estimated model params size (MB)\n",
      "12        Modules in train mode\n",
      "0         Modules in eval mode\n"
     ]
    },
    {
     "name": "stdout",
     "output_type": "stream",
     "text": [
      "- 0. Unrolls 2: Model: unr-K5-WS Err1: 1.285 | bell_err: 0.035\n",
      "Epoch 1999: 100%|██████████| 1/1 [00:00<00:00, 81.82it/s, reward_smoothness=0.980, bellman_error=14.00, loss=1.020] "
     ]
    },
    {
     "name": "stderr",
     "output_type": "stream",
     "text": [
      "`Trainer.fit` stopped: `max_epochs=2000` reached.\n"
     ]
    },
    {
     "name": "stdout",
     "output_type": "stream",
     "text": [
      "Epoch 1999: 100%|██████████| 1/1 [00:00<00:00, 54.24it/s, reward_smoothness=0.980, bellman_error=14.00, loss=1.020]\n",
      "P_pi is NOT diagonalizable\n"
     ]
    },
    {
     "name": "stderr",
     "output_type": "stream",
     "text": [
      "💡 Tip: For seamless cloud uploads and versioning, try installing [litmodels](https://pypi.org/project/litmodels/) to enable LitModelCheckpoint, which syncs automatically with the Lightning model registry.\n",
      "GPU available: True (cuda), used: False\n",
      "TPU available: False, using: 0 TPU cores\n",
      "HPU available: False, using: 0 HPUs\n",
      "\n",
      "  | Name | Type | Params | Mode\n",
      "-------------------------------------\n",
      "-------------------------------------\n",
      "0         Trainable params\n",
      "0         Non-trainable params\n",
      "0         Total params\n",
      "0.000     Total estimated model params size (MB)\n",
      "0         Modules in train mode\n",
      "0         Modules in eval mode\n"
     ]
    },
    {
     "name": "stdout",
     "output_type": "stream",
     "text": [
      "- 0. Unrolls 2: Model: unr-K10-WS Err1: 2.217 | bell_err: 0.017\n",
      "Epoch 4: 100%|██████████| 1/1 [00:00<00:00, 242.92it/s, bellman_error=0.0184, policy_diff=2.450, q_norm=651.0]"
     ]
    },
    {
     "name": "stderr",
     "output_type": "stream",
     "text": [
      "`Trainer.fit` stopped: `max_epochs=5` reached.\n"
     ]
    },
    {
     "name": "stdout",
     "output_type": "stream",
     "text": [
      "Epoch 4: 100%|██████████| 1/1 [00:00<00:00, 105.46it/s, bellman_error=0.0184, policy_diff=2.450, q_norm=651.0]"
     ]
    },
    {
     "name": "stderr",
     "output_type": "stream",
     "text": [
      "💡 Tip: For seamless cloud uploads and versioning, try installing [litmodels](https://pypi.org/project/litmodels/) to enable LitModelCheckpoint, which syncs automatically with the Lightning model registry.\n",
      "GPU available: True (cuda), used: False\n",
      "TPU available: False, using: 0 TPU cores\n",
      "HPU available: False, using: 0 HPUs\n",
      "\n",
      "  | Name | Type | Params | Mode\n",
      "-------------------------------------\n",
      "-------------------------------------\n",
      "0         Trainable params\n",
      "0         Non-trainable params\n",
      "0         Total params\n",
      "0.000     Total estimated model params size (MB)\n",
      "0         Modules in train mode\n",
      "0         Modules in eval mode\n"
     ]
    },
    {
     "name": "stdout",
     "output_type": "stream",
     "text": [
      "\n",
      "- 0. Unrolls 5: Model: val-it Err1: 1.740 | bell_err: 0.018\n",
      "Epoch 4: 100%|██████████| 1/1 [00:00<00:00, 236.97it/s, bellman_error=0.0103, policy_diff=3.160, q_norm=793.0] "
     ]
    },
    {
     "name": "stderr",
     "output_type": "stream",
     "text": [
      "`Trainer.fit` stopped: `max_epochs=5` reached.\n"
     ]
    },
    {
     "name": "stdout",
     "output_type": "stream",
     "text": [
      "Epoch 4: 100%|██████████| 1/1 [00:00<00:00, 103.38it/s, bellman_error=0.0103, policy_diff=3.160, q_norm=793.0]\n"
     ]
    },
    {
     "name": "stderr",
     "output_type": "stream",
     "text": [
      "💡 Tip: For seamless cloud uploads and versioning, try installing [litmodels](https://pypi.org/project/litmodels/) to enable LitModelCheckpoint, which syncs automatically with the Lightning model registry.\n",
      "GPU available: True (cuda), used: False\n",
      "TPU available: False, using: 0 TPU cores\n",
      "HPU available: False, using: 0 HPUs\n",
      "\n",
      "  | Name | Type | Params | Mode\n",
      "-------------------------------------\n",
      "-------------------------------------\n",
      "0         Trainable params\n",
      "0         Non-trainable params\n",
      "0         Total params\n",
      "0.000     Total estimated model params size (MB)\n",
      "0         Modules in train mode\n",
      "0         Modules in eval mode\n"
     ]
    },
    {
     "name": "stdout",
     "output_type": "stream",
     "text": [
      "- 0. Unrolls 5: Model: pol-it-5eval Err1: 1.139 | bell_err: 0.010\n",
      "Epoch 4: 100%|██████████| 1/1 [00:00<00:00, 225.32it/s, bellman_error=0.00518, policy_diff=4.240, q_norm=1.09e+3]"
     ]
    },
    {
     "name": "stderr",
     "output_type": "stream",
     "text": [
      "`Trainer.fit` stopped: `max_epochs=5` reached.\n"
     ]
    },
    {
     "name": "stdout",
     "output_type": "stream",
     "text": [
      "Epoch 4: 100%|██████████| 1/1 [00:00<00:00, 95.39it/s, bellman_error=0.00518, policy_diff=4.240, q_norm=1.09e+3] \n"
     ]
    },
    {
     "name": "stderr",
     "output_type": "stream",
     "text": [
      "Trainer will use only 1 of 2 GPUs because it is running inside an interactive / notebook environment. You may try to set `Trainer(devices=2)` but please note that multi-GPU inside interactive / notebook environments is considered experimental and unstable. Your mileage may vary.\n",
      "💡 Tip: For seamless cloud uploads and versioning, try installing [litmodels](https://pypi.org/project/litmodels/) to enable LitModelCheckpoint, which syncs automatically with the Lightning model registry.\n",
      "GPU available: True (cuda), used: True\n",
      "TPU available: False, using: 0 TPU cores\n",
      "HPU available: False, using: 0 HPUs\n",
      "LOCAL_RANK: 0 - CUDA_VISIBLE_DEVICES: [0,1]\n",
      "\n",
      "  | Name       | Type                         | Params | Mode \n",
      "--------------------------------------------------------------------\n",
      "0 | model      | UnrolledPolicyIterationModel | 6      | train\n",
      "1 | model_test | UnrolledPolicyIterationModel | 6      | train\n",
      "--------------------------------------------------------------------\n",
      "12        Trainable params\n",
      "0         Non-trainable params\n",
      "12        Total params\n",
      "0.000     Total estimated model params size (MB)\n",
      "24        Modules in train mode\n",
      "0         Modules in eval mode\n"
     ]
    },
    {
     "name": "stdout",
     "output_type": "stream",
     "text": [
      "- 0. Unrolls 5: Model: pol-it-10eval Err1: 1.432 | bell_err: 0.005\n",
      "Epoch 1999: 100%|██████████| 1/1 [00:00<00:00, 67.19it/s, reward_smoothness=0.980, bellman_error=17.30, loss=1.570] "
     ]
    },
    {
     "name": "stderr",
     "output_type": "stream",
     "text": [
      "`Trainer.fit` stopped: `max_epochs=2000` reached.\n"
     ]
    },
    {
     "name": "stdout",
     "output_type": "stream",
     "text": [
      "Epoch 1999: 100%|██████████| 1/1 [00:00<00:00, 46.69it/s, reward_smoothness=0.980, bellman_error=17.30, loss=1.570]\n",
      "P_pi is NOT diagonalizable\n"
     ]
    },
    {
     "name": "stderr",
     "output_type": "stream",
     "text": [
      "Trainer will use only 1 of 2 GPUs because it is running inside an interactive / notebook environment. You may try to set `Trainer(devices=2)` but please note that multi-GPU inside interactive / notebook environments is considered experimental and unstable. Your mileage may vary.\n",
      "💡 Tip: For seamless cloud uploads and versioning, try installing [litmodels](https://pypi.org/project/litmodels/) to enable LitModelCheckpoint, which syncs automatically with the Lightning model registry.\n",
      "GPU available: True (cuda), used: True\n",
      "TPU available: False, using: 0 TPU cores\n",
      "HPU available: False, using: 0 HPUs\n",
      "LOCAL_RANK: 0 - CUDA_VISIBLE_DEVICES: [0,1]\n",
      "\n",
      "  | Name       | Type                         | Params | Mode \n",
      "--------------------------------------------------------------------\n",
      "0 | model      | UnrolledPolicyIterationModel | 11     | train\n",
      "1 | model_test | UnrolledPolicyIterationModel | 11     | train\n",
      "--------------------------------------------------------------------\n",
      "22        Trainable params\n",
      "0         Non-trainable params\n",
      "22        Total params\n",
      "0.000     Total estimated model params size (MB)\n",
      "24        Modules in train mode\n",
      "0         Modules in eval mode\n"
     ]
    },
    {
     "name": "stdout",
     "output_type": "stream",
     "text": [
      "- 0. Unrolls 5: Model: unr-K5-WS Err1: 0.950 | bell_err: 0.019\n",
      "Epoch 1999: 100%|██████████| 1/1 [00:00<00:00, 48.87it/s, reward_smoothness=0.980, bellman_error=19.30, loss=1.930]"
     ]
    },
    {
     "name": "stderr",
     "output_type": "stream",
     "text": [
      "`Trainer.fit` stopped: `max_epochs=2000` reached.\n"
     ]
    },
    {
     "name": "stdout",
     "output_type": "stream",
     "text": [
      "Epoch 1999: 100%|██████████| 1/1 [00:00<00:00, 36.40it/s, reward_smoothness=0.980, bellman_error=19.30, loss=1.930]\n",
      "P_pi is NOT diagonalizable\n"
     ]
    },
    {
     "name": "stderr",
     "output_type": "stream",
     "text": [
      "💡 Tip: For seamless cloud uploads and versioning, try installing [litmodels](https://pypi.org/project/litmodels/) to enable LitModelCheckpoint, which syncs automatically with the Lightning model registry.\n",
      "GPU available: True (cuda), used: False\n",
      "TPU available: False, using: 0 TPU cores\n",
      "HPU available: False, using: 0 HPUs\n",
      "\n",
      "  | Name | Type | Params | Mode\n",
      "-------------------------------------\n",
      "-------------------------------------\n",
      "0         Trainable params\n",
      "0         Non-trainable params\n",
      "0         Total params\n",
      "0.000     Total estimated model params size (MB)\n",
      "0         Modules in train mode\n",
      "0         Modules in eval mode\n"
     ]
    },
    {
     "name": "stdout",
     "output_type": "stream",
     "text": [
      "- 0. Unrolls 5: Model: unr-K10-WS Err1: 0.000 | bell_err: 0.021\n",
      "Epoch 9: 100%|██████████| 1/1 [00:00<00:00, 246.72it/s, bellman_error=0.0133, policy_diff=2.450, q_norm=685.0]"
     ]
    },
    {
     "name": "stderr",
     "output_type": "stream",
     "text": [
      "`Trainer.fit` stopped: `max_epochs=10` reached.\n"
     ]
    },
    {
     "name": "stdout",
     "output_type": "stream",
     "text": [
      "Epoch 9: 100%|██████████| 1/1 [00:00<00:00, 108.05it/s, bellman_error=0.0133, policy_diff=2.450, q_norm=685.0]"
     ]
    },
    {
     "name": "stderr",
     "output_type": "stream",
     "text": [
      "💡 Tip: For seamless cloud uploads and versioning, try installing [litmodels](https://pypi.org/project/litmodels/) to enable LitModelCheckpoint, which syncs automatically with the Lightning model registry.\n",
      "GPU available: True (cuda), used: False\n",
      "TPU available: False, using: 0 TPU cores\n",
      "HPU available: False, using: 0 HPUs\n",
      "\n",
      "  | Name | Type | Params | Mode\n",
      "-------------------------------------\n",
      "-------------------------------------\n",
      "0         Trainable params\n",
      "0         Non-trainable params\n",
      "0         Total params\n",
      "0.000     Total estimated model params size (MB)\n",
      "0         Modules in train mode\n",
      "0         Modules in eval mode\n"
     ]
    },
    {
     "name": "stdout",
     "output_type": "stream",
     "text": [
      "\n",
      "- 0. Unrolls 10: Model: val-it Err1: 0.996 | bell_err: 0.013\n",
      "Epoch 9: 100%|██████████| 1/1 [00:00<00:00, 241.48it/s, bellman_error=0.00494, policy_diff=2.450, q_norm=891.0]"
     ]
    },
    {
     "name": "stderr",
     "output_type": "stream",
     "text": [
      "`Trainer.fit` stopped: `max_epochs=10` reached.\n"
     ]
    },
    {
     "name": "stdout",
     "output_type": "stream",
     "text": [
      "Epoch 9: 100%|██████████| 1/1 [00:00<00:00, 107.28it/s, bellman_error=0.00494, policy_diff=2.450, q_norm=891.0]\n"
     ]
    },
    {
     "name": "stderr",
     "output_type": "stream",
     "text": [
      "💡 Tip: For seamless cloud uploads and versioning, try installing [litmodels](https://pypi.org/project/litmodels/) to enable LitModelCheckpoint, which syncs automatically with the Lightning model registry.\n",
      "GPU available: True (cuda), used: False\n",
      "TPU available: False, using: 0 TPU cores\n",
      "HPU available: False, using: 0 HPUs\n",
      "\n",
      "  | Name | Type | Params | Mode\n",
      "-------------------------------------\n",
      "-------------------------------------\n",
      "0         Trainable params\n",
      "0         Non-trainable params\n",
      "0         Total params\n",
      "0.000     Total estimated model params size (MB)\n",
      "0         Modules in train mode\n",
      "0         Modules in eval mode\n"
     ]
    },
    {
     "name": "stdout",
     "output_type": "stream",
     "text": [
      "- 0. Unrolls 10: Model: pol-it-5eval Err1: 0.000 | bell_err: 0.005\n",
      "Epoch 9: 100%|██████████| 1/1 [00:00<00:00, 237.77it/s, bellman_error=0.00236, policy_diff=2.450, q_norm=1.14e+3]"
     ]
    },
    {
     "name": "stderr",
     "output_type": "stream",
     "text": [
      "`Trainer.fit` stopped: `max_epochs=10` reached.\n"
     ]
    },
    {
     "name": "stdout",
     "output_type": "stream",
     "text": [
      "Epoch 9: 100%|██████████| 1/1 [00:00<00:00, 105.76it/s, bellman_error=0.00236, policy_diff=2.450, q_norm=1.14e+3]\n"
     ]
    },
    {
     "name": "stderr",
     "output_type": "stream",
     "text": [
      "Trainer will use only 1 of 2 GPUs because it is running inside an interactive / notebook environment. You may try to set `Trainer(devices=2)` but please note that multi-GPU inside interactive / notebook environments is considered experimental and unstable. Your mileage may vary.\n",
      "💡 Tip: For seamless cloud uploads and versioning, try installing [litmodels](https://pypi.org/project/litmodels/) to enable LitModelCheckpoint, which syncs automatically with the Lightning model registry.\n",
      "GPU available: True (cuda), used: True\n",
      "TPU available: False, using: 0 TPU cores\n",
      "HPU available: False, using: 0 HPUs\n",
      "LOCAL_RANK: 0 - CUDA_VISIBLE_DEVICES: [0,1]\n"
     ]
    },
    {
     "name": "stdout",
     "output_type": "stream",
     "text": [
      "- 0. Unrolls 10: Model: pol-it-10eval Err1: 0.723 | bell_err: 0.002\n"
     ]
    },
    {
     "name": "stderr",
     "output_type": "stream",
     "text": [
      "\n",
      "  | Name       | Type                         | Params | Mode \n",
      "--------------------------------------------------------------------\n",
      "0 | model      | UnrolledPolicyIterationModel | 6      | train\n",
      "1 | model_test | UnrolledPolicyIterationModel | 6      | train\n",
      "--------------------------------------------------------------------\n",
      "12        Trainable params\n",
      "0         Non-trainable params\n",
      "12        Total params\n",
      "0.000     Total estimated model params size (MB)\n",
      "44        Modules in train mode\n",
      "0         Modules in eval mode\n"
     ]
    },
    {
     "name": "stdout",
     "output_type": "stream",
     "text": [
      "Epoch 1999: 100%|██████████| 1/1 [00:00<00:00, 43.75it/s, reward_smoothness=0.980, bellman_error=12.10, loss=0.764] "
     ]
    },
    {
     "name": "stderr",
     "output_type": "stream",
     "text": [
      "`Trainer.fit` stopped: `max_epochs=2000` reached.\n"
     ]
    },
    {
     "name": "stdout",
     "output_type": "stream",
     "text": [
      "Epoch 1999: 100%|██████████| 1/1 [00:00<00:00, 31.60it/s, reward_smoothness=0.980, bellman_error=12.10, loss=0.764]\n",
      "P_pi is NOT diagonalizable\n"
     ]
    },
    {
     "name": "stderr",
     "output_type": "stream",
     "text": [
      "Trainer will use only 1 of 2 GPUs because it is running inside an interactive / notebook environment. You may try to set `Trainer(devices=2)` but please note that multi-GPU inside interactive / notebook environments is considered experimental and unstable. Your mileage may vary.\n",
      "💡 Tip: For seamless cloud uploads and versioning, try installing [litmodels](https://pypi.org/project/litmodels/) to enable LitModelCheckpoint, which syncs automatically with the Lightning model registry.\n",
      "GPU available: True (cuda), used: True\n",
      "TPU available: False, using: 0 TPU cores\n",
      "HPU available: False, using: 0 HPUs\n",
      "LOCAL_RANK: 0 - CUDA_VISIBLE_DEVICES: [0,1]\n",
      "\n",
      "  | Name       | Type                         | Params | Mode \n",
      "--------------------------------------------------------------------\n",
      "0 | model      | UnrolledPolicyIterationModel | 11     | train\n",
      "1 | model_test | UnrolledPolicyIterationModel | 11     | train\n",
      "--------------------------------------------------------------------\n",
      "22        Trainable params\n",
      "0         Non-trainable params\n",
      "22        Total params\n",
      "0.000     Total estimated model params size (MB)\n",
      "44        Modules in train mode\n",
      "0         Modules in eval mode\n"
     ]
    },
    {
     "name": "stdout",
     "output_type": "stream",
     "text": [
      "- 0. Unrolls 10: Model: unr-K5-WS Err1: 0.000 | bell_err: 0.013\n",
      "Epoch 1999: 100%|██████████| 1/1 [00:00<00:00, 34.82it/s, reward_smoothness=0.980, bellman_error=5.370, loss=0.150]"
     ]
    },
    {
     "name": "stderr",
     "output_type": "stream",
     "text": [
      "`Trainer.fit` stopped: `max_epochs=2000` reached.\n"
     ]
    },
    {
     "name": "stdout",
     "output_type": "stream",
     "text": [
      "Epoch 1999: 100%|██████████| 1/1 [00:00<00:00, 26.67it/s, reward_smoothness=0.980, bellman_error=5.370, loss=0.150]\n",
      "P_pi is NOT diagonalizable\n"
     ]
    },
    {
     "name": "stderr",
     "output_type": "stream",
     "text": [
      "💡 Tip: For seamless cloud uploads and versioning, try installing [litmodels](https://pypi.org/project/litmodels/) to enable LitModelCheckpoint, which syncs automatically with the Lightning model registry.\n",
      "GPU available: True (cuda), used: False\n",
      "TPU available: False, using: 0 TPU cores\n",
      "HPU available: False, using: 0 HPUs\n",
      "\n",
      "  | Name | Type | Params | Mode\n",
      "-------------------------------------\n",
      "-------------------------------------\n",
      "0         Trainable params\n",
      "0         Non-trainable params\n",
      "0         Total params\n",
      "0.000     Total estimated model params size (MB)\n",
      "0         Modules in train mode\n",
      "0         Modules in eval mode\n"
     ]
    },
    {
     "name": "stdout",
     "output_type": "stream",
     "text": [
      "- 0. Unrolls 10: Model: unr-K10-WS Err1: 0.000 | bell_err: 0.006\n",
      "Epoch 1: 100%|██████████| 1/1 [00:00<00:00, 181.72it/s, bellman_error=0.021, policy_diff=2.000, q_norm=631.0]"
     ]
    },
    {
     "name": "stderr",
     "output_type": "stream",
     "text": [
      "`Trainer.fit` stopped: `max_epochs=2` reached.\n"
     ]
    },
    {
     "name": "stdout",
     "output_type": "stream",
     "text": [
      "Epoch 1: 100%|██████████| 1/1 [00:00<00:00, 94.28it/s, bellman_error=0.021, policy_diff=2.000, q_norm=631.0] "
     ]
    },
    {
     "name": "stderr",
     "output_type": "stream",
     "text": [
      "💡 Tip: For seamless cloud uploads and versioning, try installing [litmodels](https://pypi.org/project/litmodels/) to enable LitModelCheckpoint, which syncs automatically with the Lightning model registry.\n",
      "GPU available: True (cuda), used: False\n",
      "TPU available: False, using: 0 TPU cores\n",
      "HPU available: False, using: 0 HPUs\n",
      "\n",
      "  | Name | Type | Params | Mode\n",
      "-------------------------------------\n",
      "-------------------------------------\n",
      "0         Trainable params\n",
      "0         Non-trainable params\n",
      "0         Total params\n",
      "0.000     Total estimated model params size (MB)\n",
      "0         Modules in train mode\n",
      "0         Modules in eval mode\n"
     ]
    },
    {
     "name": "stdout",
     "output_type": "stream",
     "text": [
      "\n",
      "- 1. Unrolls 2: Model: val-it Err1: 2.175 | bell_err: 0.021\n",
      "Epoch 1: 100%|██████████| 1/1 [00:00<00:00, 190.42it/s, bellman_error=0.0166, policy_diff=5.100, q_norm=702.0] "
     ]
    },
    {
     "name": "stderr",
     "output_type": "stream",
     "text": [
      "`Trainer.fit` stopped: `max_epochs=2` reached.\n"
     ]
    },
    {
     "name": "stdout",
     "output_type": "stream",
     "text": [
      "Epoch 1: 100%|██████████| 1/1 [00:00<00:00, 96.82it/s, bellman_error=0.0166, policy_diff=5.100, q_norm=702.0] \n"
     ]
    },
    {
     "name": "stderr",
     "output_type": "stream",
     "text": [
      "💡 Tip: For seamless cloud uploads and versioning, try installing [litmodels](https://pypi.org/project/litmodels/) to enable LitModelCheckpoint, which syncs automatically with the Lightning model registry.\n",
      "GPU available: True (cuda), used: False\n",
      "TPU available: False, using: 0 TPU cores\n",
      "HPU available: False, using: 0 HPUs\n",
      "\n",
      "  | Name | Type | Params | Mode\n",
      "-------------------------------------\n",
      "-------------------------------------\n",
      "0         Trainable params\n",
      "0         Non-trainable params\n",
      "0         Total params\n",
      "0.000     Total estimated model params size (MB)\n",
      "0         Modules in train mode\n",
      "0         Modules in eval mode\n"
     ]
    },
    {
     "name": "stdout",
     "output_type": "stream",
     "text": [
      "- 1. Unrolls 2: Model: pol-it-5eval Err1: 1.901 | bell_err: 0.017\n",
      "Epoch 1: 100%|██████████| 1/1 [00:00<00:00, 183.43it/s, bellman_error=0.00898, policy_diff=5.480, q_norm=951.0] "
     ]
    },
    {
     "name": "stderr",
     "output_type": "stream",
     "text": [
      "`Trainer.fit` stopped: `max_epochs=2` reached.\n"
     ]
    },
    {
     "name": "stdout",
     "output_type": "stream",
     "text": [
      "Epoch 1: 100%|██████████| 1/1 [00:00<00:00, 94.19it/s, bellman_error=0.00898, policy_diff=5.480, q_norm=951.0] \n"
     ]
    },
    {
     "name": "stderr",
     "output_type": "stream",
     "text": [
      "Trainer will use only 1 of 2 GPUs because it is running inside an interactive / notebook environment. You may try to set `Trainer(devices=2)` but please note that multi-GPU inside interactive / notebook environments is considered experimental and unstable. Your mileage may vary.\n",
      "💡 Tip: For seamless cloud uploads and versioning, try installing [litmodels](https://pypi.org/project/litmodels/) to enable LitModelCheckpoint, which syncs automatically with the Lightning model registry.\n",
      "GPU available: True (cuda), used: True\n",
      "TPU available: False, using: 0 TPU cores\n",
      "HPU available: False, using: 0 HPUs\n",
      "LOCAL_RANK: 0 - CUDA_VISIBLE_DEVICES: [0,1]\n",
      "\n",
      "  | Name       | Type                         | Params | Mode \n",
      "--------------------------------------------------------------------\n",
      "0 | model      | UnrolledPolicyIterationModel | 6      | train\n",
      "1 | model_test | UnrolledPolicyIterationModel | 6      | train\n",
      "--------------------------------------------------------------------\n",
      "12        Trainable params\n",
      "0         Non-trainable params\n",
      "12        Total params\n",
      "0.000     Total estimated model params size (MB)\n",
      "12        Modules in train mode\n",
      "0         Modules in eval mode\n"
     ]
    },
    {
     "name": "stdout",
     "output_type": "stream",
     "text": [
      "- 1. Unrolls 2: Model: pol-it-10eval Err1: 1.954 | bell_err: 0.009\n",
      "Epoch 1999: 100%|██████████| 1/1 [00:00<00:00, 98.81it/s, reward_smoothness=0.980, bellman_error=37.00, loss=7.140] "
     ]
    },
    {
     "name": "stderr",
     "output_type": "stream",
     "text": [
      "`Trainer.fit` stopped: `max_epochs=2000` reached.\n"
     ]
    },
    {
     "name": "stdout",
     "output_type": "stream",
     "text": [
      "Epoch 1999: 100%|██████████| 1/1 [00:00<00:00, 64.58it/s, reward_smoothness=0.980, bellman_error=37.00, loss=7.140]\n",
      "P_pi is NOT diagonalizable\n"
     ]
    },
    {
     "name": "stderr",
     "output_type": "stream",
     "text": [
      "Trainer will use only 1 of 2 GPUs because it is running inside an interactive / notebook environment. You may try to set `Trainer(devices=2)` but please note that multi-GPU inside interactive / notebook environments is considered experimental and unstable. Your mileage may vary.\n",
      "💡 Tip: For seamless cloud uploads and versioning, try installing [litmodels](https://pypi.org/project/litmodels/) to enable LitModelCheckpoint, which syncs automatically with the Lightning model registry.\n",
      "GPU available: True (cuda), used: True\n",
      "TPU available: False, using: 0 TPU cores\n",
      "HPU available: False, using: 0 HPUs\n",
      "LOCAL_RANK: 0 - CUDA_VISIBLE_DEVICES: [0,1]\n",
      "\n",
      "  | Name       | Type                         | Params | Mode \n",
      "--------------------------------------------------------------------\n",
      "0 | model      | UnrolledPolicyIterationModel | 11     | train\n",
      "1 | model_test | UnrolledPolicyIterationModel | 11     | train\n",
      "--------------------------------------------------------------------\n",
      "22        Trainable params\n",
      "0         Non-trainable params\n",
      "22        Total params\n",
      "0.000     Total estimated model params size (MB)\n",
      "12        Modules in train mode\n",
      "0         Modules in eval mode\n"
     ]
    },
    {
     "name": "stdout",
     "output_type": "stream",
     "text": [
      "- 1. Unrolls 2: Model: unr-K5-WS Err1: 1.909 | bell_err: 0.044\n",
      "Epoch 1999: 100%|██████████| 1/1 [00:00<00:00, 86.86it/s, reward_smoothness=0.980, bellman_error=13.40, loss=0.942] "
     ]
    },
    {
     "name": "stderr",
     "output_type": "stream",
     "text": [
      "`Trainer.fit` stopped: `max_epochs=2000` reached.\n"
     ]
    },
    {
     "name": "stdout",
     "output_type": "stream",
     "text": [
      "Epoch 1999: 100%|██████████| 1/1 [00:00<00:00, 57.59it/s, reward_smoothness=0.980, bellman_error=13.40, loss=0.942]\n",
      "P_pi is NOT diagonalizable\n"
     ]
    },
    {
     "name": "stderr",
     "output_type": "stream",
     "text": [
      "💡 Tip: For seamless cloud uploads and versioning, try installing [litmodels](https://pypi.org/project/litmodels/) to enable LitModelCheckpoint, which syncs automatically with the Lightning model registry.\n",
      "GPU available: True (cuda), used: False\n",
      "TPU available: False, using: 0 TPU cores\n",
      "HPU available: False, using: 0 HPUs\n",
      "\n",
      "  | Name | Type | Params | Mode\n",
      "-------------------------------------\n",
      "-------------------------------------\n",
      "0         Trainable params\n",
      "0         Non-trainable params\n",
      "0         Total params\n",
      "0.000     Total estimated model params size (MB)\n",
      "0         Modules in train mode\n",
      "0         Modules in eval mode\n"
     ]
    },
    {
     "name": "stdout",
     "output_type": "stream",
     "text": [
      "- 1. Unrolls 2: Model: unr-K10-WS Err1: 0.128 | bell_err: 0.016\n",
      "Epoch 4: 100%|██████████| 1/1 [00:00<00:00, 242.91it/s, bellman_error=0.0184, policy_diff=2.450, q_norm=651.0]"
     ]
    },
    {
     "name": "stderr",
     "output_type": "stream",
     "text": [
      "`Trainer.fit` stopped: `max_epochs=5` reached.\n"
     ]
    },
    {
     "name": "stdout",
     "output_type": "stream",
     "text": [
      "Epoch 4: 100%|██████████| 1/1 [00:00<00:00, 99.46it/s, bellman_error=0.0184, policy_diff=2.450, q_norm=651.0] "
     ]
    },
    {
     "name": "stderr",
     "output_type": "stream",
     "text": [
      "💡 Tip: For seamless cloud uploads and versioning, try installing [litmodels](https://pypi.org/project/litmodels/) to enable LitModelCheckpoint, which syncs automatically with the Lightning model registry.\n",
      "GPU available: True (cuda), used: False\n",
      "TPU available: False, using: 0 TPU cores\n",
      "HPU available: False, using: 0 HPUs\n",
      "\n",
      "  | Name | Type | Params | Mode\n",
      "-------------------------------------\n",
      "-------------------------------------\n",
      "0         Trainable params\n",
      "0         Non-trainable params\n",
      "0         Total params\n",
      "0.000     Total estimated model params size (MB)\n",
      "0         Modules in train mode\n",
      "0         Modules in eval mode\n"
     ]
    },
    {
     "name": "stdout",
     "output_type": "stream",
     "text": [
      "\n",
      "- 1. Unrolls 5: Model: val-it Err1: 1.740 | bell_err: 0.018\n",
      "Epoch 4: 100%|██████████| 1/1 [00:00<00:00, 239.77it/s, bellman_error=0.0103, policy_diff=3.160, q_norm=793.0] "
     ]
    },
    {
     "name": "stderr",
     "output_type": "stream",
     "text": [
      "`Trainer.fit` stopped: `max_epochs=5` reached.\n"
     ]
    },
    {
     "name": "stdout",
     "output_type": "stream",
     "text": [
      "Epoch 4: 100%|██████████| 1/1 [00:00<00:00, 98.17it/s, bellman_error=0.0103, policy_diff=3.160, q_norm=793.0] \n"
     ]
    },
    {
     "name": "stderr",
     "output_type": "stream",
     "text": [
      "💡 Tip: For seamless cloud uploads and versioning, try installing [litmodels](https://pypi.org/project/litmodels/) to enable LitModelCheckpoint, which syncs automatically with the Lightning model registry.\n",
      "GPU available: True (cuda), used: False\n",
      "TPU available: False, using: 0 TPU cores\n",
      "HPU available: False, using: 0 HPUs\n",
      "\n",
      "  | Name | Type | Params | Mode\n",
      "-------------------------------------\n",
      "-------------------------------------\n",
      "0         Trainable params\n",
      "0         Non-trainable params\n",
      "0         Total params\n",
      "0.000     Total estimated model params size (MB)\n",
      "0         Modules in train mode\n",
      "0         Modules in eval mode\n"
     ]
    },
    {
     "name": "stdout",
     "output_type": "stream",
     "text": [
      "- 1. Unrolls 5: Model: pol-it-5eval Err1: 1.139 | bell_err: 0.010\n",
      "Epoch 4: 100%|██████████| 1/1 [00:00<00:00, 237.56it/s, bellman_error=0.00518, policy_diff=4.240, q_norm=1.09e+3]"
     ]
    },
    {
     "name": "stderr",
     "output_type": "stream",
     "text": [
      "`Trainer.fit` stopped: `max_epochs=5` reached.\n"
     ]
    },
    {
     "name": "stdout",
     "output_type": "stream",
     "text": [
      "Epoch 4: 100%|██████████| 1/1 [00:00<00:00, 97.36it/s, bellman_error=0.00518, policy_diff=4.240, q_norm=1.09e+3] \n"
     ]
    },
    {
     "name": "stderr",
     "output_type": "stream",
     "text": [
      "Trainer will use only 1 of 2 GPUs because it is running inside an interactive / notebook environment. You may try to set `Trainer(devices=2)` but please note that multi-GPU inside interactive / notebook environments is considered experimental and unstable. Your mileage may vary.\n",
      "💡 Tip: For seamless cloud uploads and versioning, try installing [litmodels](https://pypi.org/project/litmodels/) to enable LitModelCheckpoint, which syncs automatically with the Lightning model registry.\n",
      "GPU available: True (cuda), used: True\n",
      "TPU available: False, using: 0 TPU cores\n",
      "HPU available: False, using: 0 HPUs\n",
      "LOCAL_RANK: 0 - CUDA_VISIBLE_DEVICES: [0,1]\n",
      "\n",
      "  | Name       | Type                         | Params | Mode \n",
      "--------------------------------------------------------------------\n",
      "0 | model      | UnrolledPolicyIterationModel | 6      | train\n",
      "1 | model_test | UnrolledPolicyIterationModel | 6      | train\n",
      "--------------------------------------------------------------------\n",
      "12        Trainable params\n",
      "0         Non-trainable params\n",
      "12        Total params\n",
      "0.000     Total estimated model params size (MB)\n",
      "24        Modules in train mode\n",
      "0         Modules in eval mode\n"
     ]
    },
    {
     "name": "stdout",
     "output_type": "stream",
     "text": [
      "- 1. Unrolls 5: Model: pol-it-10eval Err1: 1.432 | bell_err: 0.005\n",
      "Epoch 1999: 100%|██████████| 1/1 [00:00<00:00, 68.63it/s, reward_smoothness=0.980, bellman_error=14.30, loss=1.060] "
     ]
    },
    {
     "name": "stderr",
     "output_type": "stream",
     "text": [
      "`Trainer.fit` stopped: `max_epochs=2000` reached.\n"
     ]
    },
    {
     "name": "stdout",
     "output_type": "stream",
     "text": [
      "Epoch 1999: 100%|██████████| 1/1 [00:00<00:00, 46.74it/s, reward_smoothness=0.980, bellman_error=14.30, loss=1.060]\n",
      "P_pi is NOT diagonalizable\n"
     ]
    },
    {
     "name": "stderr",
     "output_type": "stream",
     "text": [
      "Trainer will use only 1 of 2 GPUs because it is running inside an interactive / notebook environment. You may try to set `Trainer(devices=2)` but please note that multi-GPU inside interactive / notebook environments is considered experimental and unstable. Your mileage may vary.\n",
      "💡 Tip: For seamless cloud uploads and versioning, try installing [litmodels](https://pypi.org/project/litmodels/) to enable LitModelCheckpoint, which syncs automatically with the Lightning model registry.\n",
      "GPU available: True (cuda), used: True\n",
      "TPU available: False, using: 0 TPU cores\n",
      "HPU available: False, using: 0 HPUs\n",
      "LOCAL_RANK: 0 - CUDA_VISIBLE_DEVICES: [0,1]\n",
      "\n",
      "  | Name       | Type                         | Params | Mode \n",
      "--------------------------------------------------------------------\n",
      "0 | model      | UnrolledPolicyIterationModel | 11     | train\n",
      "1 | model_test | UnrolledPolicyIterationModel | 11     | train\n",
      "--------------------------------------------------------------------\n",
      "22        Trainable params\n",
      "0         Non-trainable params\n",
      "22        Total params\n",
      "0.000     Total estimated model params size (MB)\n",
      "24        Modules in train mode\n",
      "0         Modules in eval mode\n"
     ]
    },
    {
     "name": "stdout",
     "output_type": "stream",
     "text": [
      "- 1. Unrolls 5: Model: unr-K5-WS Err1: 0.813 | bell_err: 0.016\n",
      "Epoch 1999: 100%|██████████| 1/1 [00:00<00:00, 50.73it/s, reward_smoothness=0.980, bellman_error=19.30, loss=1.940]"
     ]
    },
    {
     "name": "stderr",
     "output_type": "stream",
     "text": [
      "`Trainer.fit` stopped: `max_epochs=2000` reached.\n"
     ]
    },
    {
     "name": "stdout",
     "output_type": "stream",
     "text": [
      "Epoch 1999: 100%|██████████| 1/1 [00:00<00:00, 37.27it/s, reward_smoothness=0.980, bellman_error=19.30, loss=1.940]\n",
      "P_pi is NOT diagonalizable\n"
     ]
    },
    {
     "name": "stderr",
     "output_type": "stream",
     "text": [
      "💡 Tip: For seamless cloud uploads and versioning, try installing [litmodels](https://pypi.org/project/litmodels/) to enable LitModelCheckpoint, which syncs automatically with the Lightning model registry.\n",
      "GPU available: True (cuda), used: False\n",
      "TPU available: False, using: 0 TPU cores\n",
      "HPU available: False, using: 0 HPUs\n",
      "\n",
      "  | Name | Type | Params | Mode\n",
      "-------------------------------------\n",
      "-------------------------------------\n",
      "0         Trainable params\n",
      "0         Non-trainable params\n",
      "0         Total params\n",
      "0.000     Total estimated model params size (MB)\n",
      "0         Modules in train mode\n",
      "0         Modules in eval mode\n"
     ]
    },
    {
     "name": "stdout",
     "output_type": "stream",
     "text": [
      "- 1. Unrolls 5: Model: unr-K10-WS Err1: 0.000 | bell_err: 0.021\n",
      "Epoch 9: 100%|██████████| 1/1 [00:00<00:00, 240.09it/s, bellman_error=0.0133, policy_diff=2.450, q_norm=685.0]"
     ]
    },
    {
     "name": "stderr",
     "output_type": "stream",
     "text": [
      "`Trainer.fit` stopped: `max_epochs=10` reached.\n"
     ]
    },
    {
     "name": "stdout",
     "output_type": "stream",
     "text": [
      "Epoch 9: 100%|██████████| 1/1 [00:00<00:00, 112.71it/s, bellman_error=0.0133, policy_diff=2.450, q_norm=685.0]"
     ]
    },
    {
     "name": "stderr",
     "output_type": "stream",
     "text": [
      "💡 Tip: For seamless cloud uploads and versioning, try installing [litmodels](https://pypi.org/project/litmodels/) to enable LitModelCheckpoint, which syncs automatically with the Lightning model registry.\n",
      "GPU available: True (cuda), used: False\n",
      "TPU available: False, using: 0 TPU cores\n",
      "HPU available: False, using: 0 HPUs\n",
      "\n",
      "  | Name | Type | Params | Mode\n",
      "-------------------------------------\n",
      "-------------------------------------\n",
      "0         Trainable params\n",
      "0         Non-trainable params\n",
      "0         Total params\n",
      "0.000     Total estimated model params size (MB)\n",
      "0         Modules in train mode\n",
      "0         Modules in eval mode\n"
     ]
    },
    {
     "name": "stdout",
     "output_type": "stream",
     "text": [
      "\n",
      "- 1. Unrolls 10: Model: val-it Err1: 0.996 | bell_err: 0.013\n",
      "Epoch 9: 100%|██████████| 1/1 [00:00<00:00, 227.77it/s, bellman_error=0.00494, policy_diff=2.450, q_norm=891.0]"
     ]
    },
    {
     "name": "stderr",
     "output_type": "stream",
     "text": [
      "`Trainer.fit` stopped: `max_epochs=10` reached.\n"
     ]
    },
    {
     "name": "stdout",
     "output_type": "stream",
     "text": [
      "Epoch 9: 100%|██████████| 1/1 [00:00<00:00, 101.83it/s, bellman_error=0.00494, policy_diff=2.450, q_norm=891.0]\n"
     ]
    },
    {
     "name": "stderr",
     "output_type": "stream",
     "text": [
      "💡 Tip: For seamless cloud uploads and versioning, try installing [litmodels](https://pypi.org/project/litmodels/) to enable LitModelCheckpoint, which syncs automatically with the Lightning model registry.\n",
      "GPU available: True (cuda), used: False\n",
      "TPU available: False, using: 0 TPU cores\n",
      "HPU available: False, using: 0 HPUs\n",
      "\n",
      "  | Name | Type | Params | Mode\n",
      "-------------------------------------\n",
      "-------------------------------------\n",
      "0         Trainable params\n",
      "0         Non-trainable params\n",
      "0         Total params\n",
      "0.000     Total estimated model params size (MB)\n",
      "0         Modules in train mode\n",
      "0         Modules in eval mode\n"
     ]
    },
    {
     "name": "stdout",
     "output_type": "stream",
     "text": [
      "- 1. Unrolls 10: Model: pol-it-5eval Err1: 0.000 | bell_err: 0.005\n",
      "Epoch 9: 100%|██████████| 1/1 [00:00<00:00, 225.14it/s, bellman_error=0.00236, policy_diff=2.450, q_norm=1.14e+3]"
     ]
    },
    {
     "name": "stderr",
     "output_type": "stream",
     "text": [
      "`Trainer.fit` stopped: `max_epochs=10` reached.\n"
     ]
    },
    {
     "name": "stdout",
     "output_type": "stream",
     "text": [
      "Epoch 9: 100%|██████████| 1/1 [00:00<00:00, 101.66it/s, bellman_error=0.00236, policy_diff=2.450, q_norm=1.14e+3]\n"
     ]
    },
    {
     "name": "stderr",
     "output_type": "stream",
     "text": [
      "Trainer will use only 1 of 2 GPUs because it is running inside an interactive / notebook environment. You may try to set `Trainer(devices=2)` but please note that multi-GPU inside interactive / notebook environments is considered experimental and unstable. Your mileage may vary.\n",
      "💡 Tip: For seamless cloud uploads and versioning, try installing [litmodels](https://pypi.org/project/litmodels/) to enable LitModelCheckpoint, which syncs automatically with the Lightning model registry.\n"
     ]
    },
    {
     "name": "stdout",
     "output_type": "stream",
     "text": [
      "- 1. Unrolls 10: Model: pol-it-10eval Err1: 0.723 | bell_err: 0.002\n"
     ]
    },
    {
     "name": "stderr",
     "output_type": "stream",
     "text": [
      "GPU available: True (cuda), used: True\n",
      "TPU available: False, using: 0 TPU cores\n",
      "HPU available: False, using: 0 HPUs\n",
      "LOCAL_RANK: 0 - CUDA_VISIBLE_DEVICES: [0,1]\n",
      "\n",
      "  | Name       | Type                         | Params | Mode \n",
      "--------------------------------------------------------------------\n",
      "0 | model      | UnrolledPolicyIterationModel | 6      | train\n",
      "1 | model_test | UnrolledPolicyIterationModel | 6      | train\n",
      "--------------------------------------------------------------------\n",
      "12        Trainable params\n",
      "0         Non-trainable params\n",
      "12        Total params\n",
      "0.000     Total estimated model params size (MB)\n",
      "44        Modules in train mode\n",
      "0         Modules in eval mode\n"
     ]
    },
    {
     "name": "stdout",
     "output_type": "stream",
     "text": [
      "Epoch 1999: 100%|██████████| 1/1 [00:00<00:00, 45.66it/s, reward_smoothness=0.980, bellman_error=47.90, loss=12.00]"
     ]
    },
    {
     "name": "stderr",
     "output_type": "stream",
     "text": [
      "`Trainer.fit` stopped: `max_epochs=2000` reached.\n"
     ]
    },
    {
     "name": "stdout",
     "output_type": "stream",
     "text": [
      "Epoch 1999: 100%|██████████| 1/1 [00:00<00:00, 32.48it/s, reward_smoothness=0.980, bellman_error=47.90, loss=12.00]\n",
      "P_pi is NOT diagonalizable\n"
     ]
    },
    {
     "name": "stderr",
     "output_type": "stream",
     "text": [
      "Trainer will use only 1 of 2 GPUs because it is running inside an interactive / notebook environment. You may try to set `Trainer(devices=2)` but please note that multi-GPU inside interactive / notebook environments is considered experimental and unstable. Your mileage may vary.\n",
      "💡 Tip: For seamless cloud uploads and versioning, try installing [litmodels](https://pypi.org/project/litmodels/) to enable LitModelCheckpoint, which syncs automatically with the Lightning model registry.\n",
      "GPU available: True (cuda), used: True\n",
      "TPU available: False, using: 0 TPU cores\n",
      "HPU available: False, using: 0 HPUs\n",
      "LOCAL_RANK: 0 - CUDA_VISIBLE_DEVICES: [0,1]\n",
      "\n",
      "  | Name       | Type                         | Params | Mode \n",
      "--------------------------------------------------------------------\n",
      "0 | model      | UnrolledPolicyIterationModel | 11     | train\n",
      "1 | model_test | UnrolledPolicyIterationModel | 11     | train\n",
      "--------------------------------------------------------------------\n",
      "22        Trainable params\n",
      "0         Non-trainable params\n",
      "22        Total params\n",
      "0.000     Total estimated model params size (MB)\n",
      "44        Modules in train mode\n",
      "0         Modules in eval mode\n"
     ]
    },
    {
     "name": "stdout",
     "output_type": "stream",
     "text": [
      "- 1. Unrolls 10: Model: unr-K5-WS Err1: 0.000 | bell_err: 0.044\n",
      "Epoch 1999: 100%|██████████| 1/1 [00:00<00:00, 31.29it/s, reward_smoothness=0.980, bellman_error=25.80, loss=3.460]"
     ]
    },
    {
     "name": "stderr",
     "output_type": "stream",
     "text": [
      "`Trainer.fit` stopped: `max_epochs=2000` reached.\n"
     ]
    },
    {
     "name": "stdout",
     "output_type": "stream",
     "text": [
      "Epoch 1999: 100%|██████████| 1/1 [00:00<00:00, 24.63it/s, reward_smoothness=0.980, bellman_error=25.80, loss=3.460]\n",
      "P_pi is NOT diagonalizable\n"
     ]
    },
    {
     "name": "stderr",
     "output_type": "stream",
     "text": [
      "💡 Tip: For seamless cloud uploads and versioning, try installing [litmodels](https://pypi.org/project/litmodels/) to enable LitModelCheckpoint, which syncs automatically with the Lightning model registry.\n",
      "GPU available: True (cuda), used: False\n",
      "TPU available: False, using: 0 TPU cores\n",
      "HPU available: False, using: 0 HPUs\n",
      "\n",
      "  | Name | Type | Params | Mode\n",
      "-------------------------------------\n",
      "-------------------------------------\n",
      "0         Trainable params\n",
      "0         Non-trainable params\n",
      "0         Total params\n",
      "0.000     Total estimated model params size (MB)\n",
      "0         Modules in train mode\n",
      "0         Modules in eval mode\n"
     ]
    },
    {
     "name": "stdout",
     "output_type": "stream",
     "text": [
      "- 1. Unrolls 10: Model: unr-K10-WS Err1: 0.000 | bell_err: 0.025\n",
      "Epoch 1: 100%|██████████| 1/1 [00:00<00:00, 182.56it/s, bellman_error=0.021, policy_diff=2.000, q_norm=631.0]"
     ]
    },
    {
     "name": "stderr",
     "output_type": "stream",
     "text": [
      "`Trainer.fit` stopped: `max_epochs=2` reached.\n"
     ]
    },
    {
     "name": "stdout",
     "output_type": "stream",
     "text": [
      "Epoch 1: 100%|██████████| 1/1 [00:00<00:00, 93.88it/s, bellman_error=0.021, policy_diff=2.000, q_norm=631.0] "
     ]
    },
    {
     "name": "stderr",
     "output_type": "stream",
     "text": [
      "💡 Tip: For seamless cloud uploads and versioning, try installing [litmodels](https://pypi.org/project/litmodels/) to enable LitModelCheckpoint, which syncs automatically with the Lightning model registry.\n",
      "GPU available: True (cuda), used: False\n",
      "TPU available: False, using: 0 TPU cores\n",
      "HPU available: False, using: 0 HPUs\n",
      "\n",
      "  | Name | Type | Params | Mode\n",
      "-------------------------------------\n",
      "-------------------------------------\n",
      "0         Trainable params\n",
      "0         Non-trainable params\n",
      "0         Total params\n",
      "0.000     Total estimated model params size (MB)\n",
      "0         Modules in train mode\n",
      "0         Modules in eval mode\n"
     ]
    },
    {
     "name": "stdout",
     "output_type": "stream",
     "text": [
      "\n",
      "- 2. Unrolls 2: Model: val-it Err1: 2.175 | bell_err: 0.021\n",
      "Epoch 1: 100%|██████████| 1/1 [00:00<00:00, 190.27it/s, bellman_error=0.0166, policy_diff=5.100, q_norm=702.0] "
     ]
    },
    {
     "name": "stderr",
     "output_type": "stream",
     "text": [
      "`Trainer.fit` stopped: `max_epochs=2` reached.\n"
     ]
    },
    {
     "name": "stdout",
     "output_type": "stream",
     "text": [
      "Epoch 1: 100%|██████████| 1/1 [00:00<00:00, 95.97it/s, bellman_error=0.0166, policy_diff=5.100, q_norm=702.0] \n"
     ]
    },
    {
     "name": "stderr",
     "output_type": "stream",
     "text": [
      "💡 Tip: For seamless cloud uploads and versioning, try installing [litmodels](https://pypi.org/project/litmodels/) to enable LitModelCheckpoint, which syncs automatically with the Lightning model registry.\n",
      "GPU available: True (cuda), used: False\n",
      "TPU available: False, using: 0 TPU cores\n",
      "HPU available: False, using: 0 HPUs\n",
      "\n",
      "  | Name | Type | Params | Mode\n",
      "-------------------------------------\n",
      "-------------------------------------\n",
      "0         Trainable params\n",
      "0         Non-trainable params\n",
      "0         Total params\n",
      "0.000     Total estimated model params size (MB)\n",
      "0         Modules in train mode\n",
      "0         Modules in eval mode\n"
     ]
    },
    {
     "name": "stdout",
     "output_type": "stream",
     "text": [
      "- 2. Unrolls 2: Model: pol-it-5eval Err1: 1.901 | bell_err: 0.017\n",
      "Epoch 1: 100%|██████████| 1/1 [00:00<00:00, 185.92it/s, bellman_error=0.00898, policy_diff=5.480, q_norm=951.0] "
     ]
    },
    {
     "name": "stderr",
     "output_type": "stream",
     "text": [
      "`Trainer.fit` stopped: `max_epochs=2` reached.\n"
     ]
    },
    {
     "name": "stdout",
     "output_type": "stream",
     "text": [
      "Epoch 1: 100%|██████████| 1/1 [00:00<00:00, 95.43it/s, bellman_error=0.00898, policy_diff=5.480, q_norm=951.0] \n"
     ]
    },
    {
     "name": "stderr",
     "output_type": "stream",
     "text": [
      "Trainer will use only 1 of 2 GPUs because it is running inside an interactive / notebook environment. You may try to set `Trainer(devices=2)` but please note that multi-GPU inside interactive / notebook environments is considered experimental and unstable. Your mileage may vary.\n",
      "💡 Tip: For seamless cloud uploads and versioning, try installing [litmodels](https://pypi.org/project/litmodels/) to enable LitModelCheckpoint, which syncs automatically with the Lightning model registry.\n",
      "GPU available: True (cuda), used: True\n",
      "TPU available: False, using: 0 TPU cores\n",
      "HPU available: False, using: 0 HPUs\n",
      "LOCAL_RANK: 0 - CUDA_VISIBLE_DEVICES: [0,1]\n",
      "\n",
      "  | Name       | Type                         | Params | Mode \n",
      "--------------------------------------------------------------------\n",
      "0 | model      | UnrolledPolicyIterationModel | 6      | train\n",
      "1 | model_test | UnrolledPolicyIterationModel | 6      | train\n",
      "--------------------------------------------------------------------\n",
      "12        Trainable params\n",
      "0         Non-trainable params\n",
      "12        Total params\n",
      "0.000     Total estimated model params size (MB)\n",
      "12        Modules in train mode\n",
      "0         Modules in eval mode\n"
     ]
    },
    {
     "name": "stdout",
     "output_type": "stream",
     "text": [
      "- 2. Unrolls 2: Model: pol-it-10eval Err1: 1.954 | bell_err: 0.009\n",
      "Epoch 1734:   0%|          | 0/1 [00:00<?, ?it/s, reward_smoothness=0.980, bellman_error=14.80, loss=1.150]         "
     ]
    }
   ],
   "source": [
    "n_runs = 3\n",
    "\n",
    "errs1 = np.zeros((n_runs, len(Exps), N_unrolls.size))\n",
    "errs2 = np.zeros((n_runs, len(Exps), N_unrolls.size))\n",
    "bell_errs = np.zeros((n_runs, len(Exps), N_unrolls.size))\n",
    "\n",
    "t_init = perf_counter()\n",
    "for g in range(n_runs):\n",
    "    errs1[g], errs2[g], bell_errs[g] = run(g, N_unrolls, Exps, q_opt, use_logger, log_every_n_steps, verbose)\n",
    "\n",
    "t_end = perf_counter()\n",
    "print(f'----- Solved in {(t_end-t_init)/60:.3f} minutes -----')\n",
    "\n",
    "if SAVE:\n",
    "    file_name = PATH + \"n_unrolls.npz\"\n",
    "    np.savez(file_name, N_unrolls=N_unrolls, Exps=Exps, errs1=errs1, errs2=errs2, bell_errs=bell_errs)\n",
    "    print(\"Data saved as:\", file_name)"
   ]
  },
  {
   "cell_type": "code",
   "execution_count": null,
   "id": "50b0d40f",
   "metadata": {},
   "outputs": [],
   "source": [
    "# # Load data\n",
    "# data = np.load(PATH + \"n_unrolls.npz\", allow_pickle=True)\n",
    "# N_unrolls = data[\"N_unrolls\"]\n",
    "# Exps = data[\"Exps\"]\n",
    "# errs1 = data[\"errs1\"]\n",
    "# errs2 = data[\"errs2\"]"
   ]
  },
  {
   "cell_type": "code",
   "execution_count": null,
   "id": "016fc7fb",
   "metadata": {},
   "outputs": [],
   "source": [
    "import numpy as np\n",
    "import torch\n",
    "import matplotlib.pyplot as plt\n",
    "\n",
    "from pytorch_lightning import Trainer\n",
    "from lightning.pytorch.loggers import WandbLogger\n",
    "import wandb\n",
    "\n",
    "from src.environments import CliffWalkingEnv\n",
    "from src.algorithms.generalized_policy_iteration import PolicyIterationTrain\n",
    "\n",
    "\n",
    "def get_optimal_q(max_eval_iters=50, max_epochs=50, group_name=\"\", use_logger=True, log_every_n_steps=1):\n",
    "    env = CliffWalkingEnv()\n",
    "    model = PolicyIterationTrain(env, gamma=0.99, max_eval_iters=max_eval_iters)\n",
    "\n",
    "    if use_logger:\n",
    "            logger = WandbLogger(\n",
    "            project=\"rl-unrolling\",\n",
    "            name=f\"Opt_pol-{max_eval_iters}eval-{max_epochs}impr\",\n",
    "            group=group_name\n",
    "        )\n",
    "    else:\n",
    "        logger = False\n",
    "\n",
    "    trainer = Trainer(\n",
    "        max_epochs=max_epochs,\n",
    "        log_every_n_steps=log_every_n_steps,\n",
    "        accelerator='cpu',\n",
    "        logger=logger,\n",
    "    )\n",
    "    \n",
    "    trainer.fit(model, train_dataloaders=None)\n",
    "    wandb.finish()\n",
    "    return model.q.detach()\n",
    "\n",
    "\n",
    "def test_pol_err(model, q_opt, max_eval_iters=200):\n",
    "        q_opt = q_opt.to(model.device)\n",
    "\n",
    "        # Get a deterministic policy\n",
    "        nS, _ = model.Pi.shape\n",
    "        greedy_actions = model.Pi.argmax(axis=1)\n",
    "        Pi_det = np.zeros_like(model.Pi)\n",
    "        Pi_det[np.arange(nS), greedy_actions] = 1.0\n",
    "\n",
    "        # Run policy evaluation with learned policy\n",
    "        env = CliffWalkingEnv()\n",
    "        model = PolicyIterationTrain(env, max_eval_iters=max_eval_iters, Pi_init=torch.Tensor(Pi_det))\n",
    "        model.on_fit_start()\n",
    "        P_pi = model.compute_transition_matrix(model.P, model.Pi)\n",
    "        q_est = model.policy_evaluation(P_pi, model.r).detach()\n",
    "\n",
    "        q_opt = q_opt.to(model.device)\n",
    "        err1 = (torch.norm(q_est - q_opt) / torch.norm(q_opt)) ** 2\n",
    "        err2 = (torch.norm(q_est/torch.norm(q_est) - q_opt/torch.norm(q_opt))) ** 2\n",
    "        return err1.cpu().numpy(), err2.cpu().numpy()"
   ]
  },
  {
   "cell_type": "code",
   "execution_count": null,
   "id": "d2ebf05b",
   "metadata": {},
   "outputs": [
    {
     "ename": "KeyError",
     "evalue": "'fmt'",
     "output_type": "error",
     "traceback": [
      "\u001b[31m---------------------------------------------------------------------------\u001b[39m",
      "\u001b[31mKeyError\u001b[39m                                  Traceback (most recent call last)",
      "\u001b[36mCell\u001b[39m\u001b[36m \u001b[39m\u001b[32mIn[7]\u001b[39m\u001b[32m, line 3\u001b[39m\n\u001b[32m      1\u001b[39m skip_idx = []\n\u001b[32m      2\u001b[39m xlabel = \u001b[33m\"\u001b[39m\u001b[33mNumber of unrolls\u001b[39m\u001b[33m\"\u001b[39m\n\u001b[32m----> \u001b[39m\u001b[32m3\u001b[39m \u001b[43mplot_errors\u001b[49m\u001b[43m(\u001b[49m\u001b[43merrs1\u001b[49m\u001b[43m,\u001b[49m\u001b[43m \u001b[49m\u001b[43mN_unrolls\u001b[49m\u001b[43m,\u001b[49m\u001b[43m \u001b[49m\u001b[43mExps\u001b[49m\u001b[43m,\u001b[49m\u001b[43m \u001b[49m\u001b[43mxlabel\u001b[49m\u001b[43m,\u001b[49m\u001b[43m \u001b[49m\u001b[33;43m\"\u001b[39;49m\u001b[33;43mQ err\u001b[39;49m\u001b[33;43m\"\u001b[39;49m\u001b[43m,\u001b[49m\u001b[43m \u001b[49m\u001b[43mskip_idx\u001b[49m\u001b[43m=\u001b[49m\u001b[43mskip_idx\u001b[49m\u001b[43m,\u001b[49m\u001b[43m \u001b[49m\u001b[43magg\u001b[49m\u001b[43m=\u001b[49m\u001b[33;43m\"\u001b[39;49m\u001b[33;43mmedian\u001b[39;49m\u001b[33;43m\"\u001b[39;49m\u001b[43m,\u001b[49m\u001b[43m \u001b[49m\u001b[43mdeviation\u001b[49m\u001b[43m=\u001b[49m\u001b[33;43m'\u001b[39;49m\u001b[33;43mprctile\u001b[39;49m\u001b[33;43m'\u001b[39;49m\u001b[43m)\u001b[49m\n\u001b[32m      4\u001b[39m plot_errors(errs2, N_unrolls, Exps, xlabel, \u001b[33m\"\u001b[39m\u001b[33mQ err 2\u001b[39m\u001b[33m\"\u001b[39m, skip_idx=skip_idx, agg=\u001b[33m\"\u001b[39m\u001b[33mmedian\u001b[39m\u001b[33m\"\u001b[39m, deviation=\u001b[33m'\u001b[39m\u001b[33mprctile\u001b[39m\u001b[33m'\u001b[39m)\n\u001b[32m      5\u001b[39m plot_errors(bell_errs, N_unrolls, Exps, xlabel, \u001b[33m\"\u001b[39m\u001b[33mBellman err\u001b[39m\u001b[33m\"\u001b[39m, skip_idx=skip_idx, agg=\u001b[33m\"\u001b[39m\u001b[33mmedian\u001b[39m\u001b[33m\"\u001b[39m, deviation=\u001b[33m'\u001b[39m\u001b[33mprctile\u001b[39m\u001b[33m'\u001b[39m)\n",
      "\u001b[36mFile \u001b[39m\u001b[32m~/Investigacion/rl-unrolling/src/utils.py:78\u001b[39m, in \u001b[36mplot_errors\u001b[39m\u001b[34m(errs, x_vals, exps, xlabel, ylabel, deviation, agg, skip_idx)\u001b[39m\n\u001b[32m     75\u001b[39m \u001b[38;5;28;01mif\u001b[39;00m i \u001b[38;5;129;01min\u001b[39;00m skip_idx:\n\u001b[32m     76\u001b[39m     \u001b[38;5;28;01mcontinue\u001b[39;00m\n\u001b[32m---> \u001b[39m\u001b[32m78\u001b[39m plt.plot(x_vals, agg_errs[i], \u001b[43mexp\u001b[49m\u001b[43m[\u001b[49m\u001b[33;43m'\u001b[39;49m\u001b[33;43mfmt\u001b[39;49m\u001b[33;43m'\u001b[39;49m\u001b[43m]\u001b[49m, label=exp[\u001b[33m'\u001b[39m\u001b[33mname\u001b[39m\u001b[33m'\u001b[39m])\n\u001b[32m     80\u001b[39m \u001b[38;5;28;01mif\u001b[39;00m deviation == \u001b[33m'\u001b[39m\u001b[33mprctile\u001b[39m\u001b[33m'\u001b[39m:\n\u001b[32m     81\u001b[39m     up_ci = prctile25[i]\n",
      "\u001b[31mKeyError\u001b[39m: 'fmt'"
     ]
    },
    {
     "data": {
      "image/png": "[encoded data removed]",
      "text/plain": [
       "<Figure size 800x500 with 1 Axes>"
      ]
     },
     "metadata": {},
     "output_type": "display_data"
    }
   ],
   "source": [
    "skip_idx = []\n",
    "xlabel = \"Number of unrolls\"\n",
    "plot_errors(errs1, N_unrolls, Exps, xlabel, \"Q err\", skip_idx=skip_idx, agg=\"median\", deviation='prctile')\n",
    "plot_errors(errs2, N_unrolls, Exps, xlabel, \"Q err 2\", skip_idx=skip_idx, agg=\"median\", deviation='prctile')\n",
    "plot_errors(bell_errs, N_unrolls, Exps, xlabel, \"Bellman err\", skip_idx=skip_idx, agg=\"median\", deviation='prctile')\n"
   ]
  }
 ],
 "metadata": {
  "kernelspec": {
   "display_name": ".venv",
   "language": "python",
   "name": "python3"
  },
  "language_info": {
   "codemirror_mode": {
    "name": "ipython",
    "version": 3
   },
   "file_extension": ".py",
   "mimetype": "text/x-python",
   "name": "python",
   "nbconvert_exporter": "python",
   "pygments_lexer": "ipython3",
   "version": "3.12.3"
  }
 },
 "nbformat": 4,
 "nbformat_minor": 5
}
