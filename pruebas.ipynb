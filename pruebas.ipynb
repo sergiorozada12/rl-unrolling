{
 "cells": [
  {
   "cell_type": "code",
   "execution_count": 17,
   "id": "fae20c5b",
   "metadata": {},
   "outputs": [
    {
     "name": "stdout",
     "output_type": "stream",
     "text": [
      "{0: {0: [(1.0, np.int64(0), -1, False)], 1: [(1.0, np.int64(1), -1, False)], 2: [(1.0, np.int64(12), -1, False)], 3: [(1.0, np.int64(0), -1, False)]}, 1: {0: [(1.0, np.int64(1), -1, False)], 1: [(1.0, np.int64(2), -1, False)], 2: [(1.0, np.int64(13), -1, False)], 3: [(1.0, np.int64(0), -1, False)]}, 2: {0: [(1.0, np.int64(2), -1, False)], 1: [(1.0, np.int64(3), -1, False)], 2: [(1.0, np.int64(14), -1, False)], 3: [(1.0, np.int64(1), -1, False)]}, 3: {0: [(1.0, np.int64(3), -1, False)], 1: [(1.0, np.int64(4), -1, False)], 2: [(1.0, np.int64(15), -1, False)], 3: [(1.0, np.int64(2), -1, False)]}, 4: {0: [(1.0, np.int64(4), -1, False)], 1: [(1.0, np.int64(5), -1, False)], 2: [(1.0, np.int64(16), -1, False)], 3: [(1.0, np.int64(3), -1, False)]}, 5: {0: [(1.0, np.int64(5), -1, False)], 1: [(1.0, np.int64(6), -1, False)], 2: [(1.0, np.int64(17), -1, False)], 3: [(1.0, np.int64(4), -1, False)]}, 6: {0: [(1.0, np.int64(6), -1, False)], 1: [(1.0, np.int64(7), -1, False)], 2: [(1.0, np.int64(18), -1, False)], 3: [(1.0, np.int64(5), -1, False)]}, 7: {0: [(1.0, np.int64(7), -1, False)], 1: [(1.0, np.int64(8), -1, False)], 2: [(1.0, np.int64(19), -1, False)], 3: [(1.0, np.int64(6), -1, False)]}, 8: {0: [(1.0, np.int64(8), -1, False)], 1: [(1.0, np.int64(9), -1, False)], 2: [(1.0, np.int64(20), -1, False)], 3: [(1.0, np.int64(7), -1, False)]}, 9: {0: [(1.0, np.int64(9), -1, False)], 1: [(1.0, np.int64(10), -1, False)], 2: [(1.0, np.int64(21), -1, False)], 3: [(1.0, np.int64(8), -1, False)]}, 10: {0: [(1.0, np.int64(10), -1, False)], 1: [(1.0, np.int64(11), -1, False)], 2: [(1.0, np.int64(22), -1, False)], 3: [(1.0, np.int64(9), -1, False)]}, 11: {0: [(1.0, np.int64(11), -1, False)], 1: [(1.0, np.int64(11), -1, False)], 2: [(1.0, np.int64(23), -1, False)], 3: [(1.0, np.int64(10), -1, False)]}, 12: {0: [(1.0, np.int64(0), -1, False)], 1: [(1.0, np.int64(13), -1, False)], 2: [(1.0, np.int64(24), -1, False)], 3: [(1.0, np.int64(12), -1, False)]}, 13: {0: [(1.0, np.int64(1), -1, False)], 1: [(1.0, np.int64(14), -1, False)], 2: [(1.0, np.int64(25), -1, False)], 3: [(1.0, np.int64(12), -1, False)]}, 14: {0: [(1.0, np.int64(2), -1, False)], 1: [(1.0, np.int64(15), -1, False)], 2: [(1.0, np.int64(26), -1, False)], 3: [(1.0, np.int64(13), -1, False)]}, 15: {0: [(1.0, np.int64(3), -1, False)], 1: [(1.0, np.int64(16), -1, False)], 2: [(1.0, np.int64(27), -1, False)], 3: [(1.0, np.int64(14), -1, False)]}, 16: {0: [(1.0, np.int64(4), -1, False)], 1: [(1.0, np.int64(17), -1, False)], 2: [(1.0, np.int64(28), -1, False)], 3: [(1.0, np.int64(15), -1, False)]}, 17: {0: [(1.0, np.int64(5), -1, False)], 1: [(1.0, np.int64(18), -1, False)], 2: [(1.0, np.int64(29), -1, False)], 3: [(1.0, np.int64(16), -1, False)]}, 18: {0: [(1.0, np.int64(6), -1, False)], 1: [(1.0, np.int64(19), -1, False)], 2: [(1.0, np.int64(30), -1, False)], 3: [(1.0, np.int64(17), -1, False)]}, 19: {0: [(1.0, np.int64(7), -1, False)], 1: [(1.0, np.int64(20), -1, False)], 2: [(1.0, np.int64(31), -1, False)], 3: [(1.0, np.int64(18), -1, False)]}, 20: {0: [(1.0, np.int64(8), -1, False)], 1: [(1.0, np.int64(21), -1, False)], 2: [(1.0, np.int64(32), -1, False)], 3: [(1.0, np.int64(19), -1, False)]}, 21: {0: [(1.0, np.int64(9), -1, False)], 1: [(1.0, np.int64(22), -1, False)], 2: [(1.0, np.int64(33), -1, False)], 3: [(1.0, np.int64(20), -1, False)]}, 22: {0: [(1.0, np.int64(10), -1, False)], 1: [(1.0, np.int64(23), -1, False)], 2: [(1.0, np.int64(34), -1, False)], 3: [(1.0, np.int64(21), -1, False)]}, 23: {0: [(1.0, np.int64(11), -1, False)], 1: [(1.0, np.int64(23), -1, False)], 2: [(1.0, np.int64(35), -1, False)], 3: [(1.0, np.int64(22), -1, False)]}, 24: {0: [(1.0, np.int64(12), -1, False)], 1: [(1.0, np.int64(25), -1, False)], 2: [(1.0, np.int64(36), -1, False)], 3: [(1.0, np.int64(24), -1, False)]}, 25: {0: [(1.0, np.int64(13), -1, False)], 1: [(1.0, np.int64(26), -1, False)], 2: [(1.0, np.int64(36), -100, False)], 3: [(1.0, np.int64(24), -1, False)]}, 26: {0: [(1.0, np.int64(14), -1, False)], 1: [(1.0, np.int64(27), -1, False)], 2: [(1.0, np.int64(36), -100, False)], 3: [(1.0, np.int64(25), -1, False)]}, 27: {0: [(1.0, np.int64(15), -1, False)], 1: [(1.0, np.int64(28), -1, False)], 2: [(1.0, np.int64(36), -100, False)], 3: [(1.0, np.int64(26), -1, False)]}, 28: {0: [(1.0, np.int64(16), -1, False)], 1: [(1.0, np.int64(29), -1, False)], 2: [(1.0, np.int64(36), -100, False)], 3: [(1.0, np.int64(27), -1, False)]}, 29: {0: [(1.0, np.int64(17), -1, False)], 1: [(1.0, np.int64(30), -1, False)], 2: [(1.0, np.int64(36), -100, False)], 3: [(1.0, np.int64(28), -1, False)]}, 30: {0: [(1.0, np.int64(18), -1, False)], 1: [(1.0, np.int64(31), -1, False)], 2: [(1.0, np.int64(36), -100, False)], 3: [(1.0, np.int64(29), -1, False)]}, 31: {0: [(1.0, np.int64(19), -1, False)], 1: [(1.0, np.int64(32), -1, False)], 2: [(1.0, np.int64(36), -100, False)], 3: [(1.0, np.int64(30), -1, False)]}, 32: {0: [(1.0, np.int64(20), -1, False)], 1: [(1.0, np.int64(33), -1, False)], 2: [(1.0, np.int64(36), -100, False)], 3: [(1.0, np.int64(31), -1, False)]}, 33: {0: [(1.0, np.int64(21), -1, False)], 1: [(1.0, np.int64(34), -1, False)], 2: [(1.0, np.int64(36), -100, False)], 3: [(1.0, np.int64(32), -1, False)]}, 34: {0: [(1.0, np.int64(22), -1, False)], 1: [(1.0, np.int64(35), -1, False)], 2: [(1.0, np.int64(36), -100, False)], 3: [(1.0, np.int64(33), -1, False)]}, 35: {0: [(1.0, np.int64(23), -1, False)], 1: [(1.0, np.int64(35), -1, False)], 2: [(1.0, np.int64(47), -1, True)], 3: [(1.0, np.int64(34), -1, False)]}, 36: {0: [(1.0, np.int64(24), -1, False)], 1: [(1.0, np.int64(36), -100, False)], 2: [(1.0, np.int64(36), -1, False)], 3: [(1.0, np.int64(36), -1, False)]}, 37: {0: [(1.0, np.int64(25), -1, False)], 1: [(1.0, np.int64(36), -100, False)], 2: [(1.0, np.int64(36), -100, False)], 3: [(1.0, np.int64(36), -1, False)]}, 38: {0: [(1.0, np.int64(26), -1, False)], 1: [(1.0, np.int64(36), -100, False)], 2: [(1.0, np.int64(36), -100, False)], 3: [(1.0, np.int64(36), -100, False)]}, 39: {0: [(1.0, np.int64(27), -1, False)], 1: [(1.0, np.int64(36), -100, False)], 2: [(1.0, np.int64(36), -100, False)], 3: [(1.0, np.int64(36), -100, False)]}, 40: {0: [(1.0, np.int64(28), -1, False)], 1: [(1.0, np.int64(36), -100, False)], 2: [(1.0, np.int64(36), -100, False)], 3: [(1.0, np.int64(36), -100, False)]}, 41: {0: [(1.0, np.int64(29), -1, False)], 1: [(1.0, np.int64(36), -100, False)], 2: [(1.0, np.int64(36), -100, False)], 3: [(1.0, np.int64(36), -100, False)]}, 42: {0: [(1.0, np.int64(30), -1, False)], 1: [(1.0, np.int64(36), -100, False)], 2: [(1.0, np.int64(36), -100, False)], 3: [(1.0, np.int64(36), -100, False)]}, 43: {0: [(1.0, np.int64(31), -1, False)], 1: [(1.0, np.int64(36), -100, False)], 2: [(1.0, np.int64(36), -100, False)], 3: [(1.0, np.int64(36), -100, False)]}, 44: {0: [(1.0, np.int64(32), -1, False)], 1: [(1.0, np.int64(36), -100, False)], 2: [(1.0, np.int64(36), -100, False)], 3: [(1.0, np.int64(36), -100, False)]}, 45: {0: [(1.0, np.int64(33), -1, False)], 1: [(1.0, np.int64(36), -100, False)], 2: [(1.0, np.int64(36), -100, False)], 3: [(1.0, np.int64(36), -100, False)]}, 46: {0: [(1.0, np.int64(34), -1, False)], 1: [(1.0, np.int64(47), -1, True)], 2: [(1.0, np.int64(36), -100, False)], 3: [(1.0, np.int64(36), -100, False)]}, 47: {0: [(1.0, 47, 0.0, True)], 1: [(1.0, 47, 0.0, True)], 2: [(1.0, 47, 0.0, True)], 3: [(1.0, 47, 0.0, True)]}}\n"
     ]
    }
   ],
   "source": [
    "from src.algorithms.unrolling_policy_iteration import UnrollingPolicyIterationTrain\n",
    "from src.environments import CliffWalkingEnv, MirroredCliffWalkingEnv\n",
    "from src.algorithms.generalized_policy_iteration import PolicyIterationTrain\n",
    "\n",
    "from PIL import Image\n",
    "\n",
    "\n",
    "\n",
    "env = CliffWalkingEnv()\n",
    "\n",
    "\n"
   ]
  },
  {
   "cell_type": "code",
   "execution_count": 21,
   "id": "d0f703a3",
   "metadata": {},
   "outputs": [
    {
     "ename": "AttributeError",
     "evalue": "'CliffWalkingEnv' object has no attribute 's'",
     "output_type": "error",
     "traceback": [
      "\u001b[0;31m---------------------------------------------------------------------------\u001b[0m",
      "\u001b[0;31mAttributeError\u001b[0m                            Traceback (most recent call last)",
      "Cell \u001b[0;32mIn[21], line 2\u001b[0m\n\u001b[1;32m      1\u001b[0m env2 \u001b[38;5;241m=\u001b[39m MirroredCliffWalkingEnv()\n\u001b[0;32m----> 2\u001b[0m \u001b[43menv2\u001b[49m\u001b[38;5;241;43m.\u001b[39;49m\u001b[43mrender\u001b[49m\u001b[43m(\u001b[49m\u001b[43m)\u001b[49m\n",
      "File \u001b[0;32m~/Extraescolares/Workshop_RL_GSP/rl-unrolling/src/environments.py:121\u001b[0m, in \u001b[0;36mMirroredCliffWalkingEnv.render\u001b[0;34m(self)\u001b[0m\n\u001b[1;32m    120\u001b[0m \u001b[38;5;28;01mdef\u001b[39;00m\u001b[38;5;250m \u001b[39m\u001b[38;5;21mrender\u001b[39m(\u001b[38;5;28mself\u001b[39m):\n\u001b[0;32m--> 121\u001b[0m     \u001b[38;5;28;01mreturn\u001b[39;00m \u001b[38;5;28;43mself\u001b[39;49m\u001b[38;5;241;43m.\u001b[39;49m\u001b[43menv\u001b[49m\u001b[38;5;241;43m.\u001b[39;49m\u001b[43mrender\u001b[49m\u001b[43m(\u001b[49m\u001b[43m)\u001b[49m\n",
      "File \u001b[0;32m~/Extraescolares/Workshop_RL_GSP/rl-unrolling/.venv/lib/python3.10/site-packages/gymnasium/envs/toy_text/cliffwalking.py:228\u001b[0m, in \u001b[0;36mCliffWalkingEnv.render\u001b[0;34m(self)\u001b[0m\n\u001b[1;32m    226\u001b[0m     \u001b[38;5;28;01mreturn\u001b[39;00m \u001b[38;5;28mself\u001b[39m\u001b[38;5;241m.\u001b[39m_render_text()\n\u001b[1;32m    227\u001b[0m \u001b[38;5;28;01melse\u001b[39;00m:\n\u001b[0;32m--> 228\u001b[0m     \u001b[38;5;28;01mreturn\u001b[39;00m \u001b[38;5;28;43mself\u001b[39;49m\u001b[38;5;241;43m.\u001b[39;49m\u001b[43m_render_gui\u001b[49m\u001b[43m(\u001b[49m\u001b[38;5;28;43mself\u001b[39;49m\u001b[38;5;241;43m.\u001b[39;49m\u001b[43mrender_mode\u001b[49m\u001b[43m)\u001b[49m\n",
      "File \u001b[0;32m~/Extraescolares/Workshop_RL_GSP/rl-unrolling/.venv/lib/python3.10/site-packages/gymnasium/envs/toy_text/cliffwalking.py:307\u001b[0m, in \u001b[0;36mCliffWalkingEnv._render_gui\u001b[0;34m(self, mode)\u001b[0m\n\u001b[1;32m    305\u001b[0m \u001b[38;5;28;01mif\u001b[39;00m s \u001b[38;5;241m==\u001b[39m \u001b[38;5;28mself\u001b[39m\u001b[38;5;241m.\u001b[39mnS \u001b[38;5;241m-\u001b[39m \u001b[38;5;241m1\u001b[39m:\n\u001b[1;32m    306\u001b[0m     \u001b[38;5;28mself\u001b[39m\u001b[38;5;241m.\u001b[39mwindow_surface\u001b[38;5;241m.\u001b[39mblit(\u001b[38;5;28mself\u001b[39m\u001b[38;5;241m.\u001b[39mgoal_img, pos)\n\u001b[0;32m--> 307\u001b[0m \u001b[38;5;28;01mif\u001b[39;00m s \u001b[38;5;241m==\u001b[39m \u001b[38;5;28;43mself\u001b[39;49m\u001b[38;5;241;43m.\u001b[39;49m\u001b[43ms\u001b[49m:\n\u001b[1;32m    308\u001b[0m     elf_pos \u001b[38;5;241m=\u001b[39m (pos[\u001b[38;5;241m0\u001b[39m], pos[\u001b[38;5;241m1\u001b[39m] \u001b[38;5;241m-\u001b[39m \u001b[38;5;241m0.1\u001b[39m \u001b[38;5;241m*\u001b[39m \u001b[38;5;28mself\u001b[39m\u001b[38;5;241m.\u001b[39mcell_size[\u001b[38;5;241m1\u001b[39m])\n\u001b[1;32m    309\u001b[0m     last_action \u001b[38;5;241m=\u001b[39m \u001b[38;5;28mself\u001b[39m\u001b[38;5;241m.\u001b[39mlastaction \u001b[38;5;28;01mif\u001b[39;00m \u001b[38;5;28mself\u001b[39m\u001b[38;5;241m.\u001b[39mlastaction \u001b[38;5;129;01mis\u001b[39;00m \u001b[38;5;129;01mnot\u001b[39;00m \u001b[38;5;28;01mNone\u001b[39;00m \u001b[38;5;28;01melse\u001b[39;00m \u001b[38;5;241m2\u001b[39m\n",
      "\u001b[0;31mAttributeError\u001b[0m: 'CliffWalkingEnv' object has no attribute 's'"
     ]
    }
   ],
   "source": [
    "env2 = MirroredCliffWalkingEnv()\n",
    "env2.render()"
   ]
  },
  {
   "cell_type": "code",
   "execution_count": 16,
   "id": "5045a458",
   "metadata": {},
   "outputs": [
    {
     "name": "stdout",
     "output_type": "stream",
     "text": [
      "Estados: 48, Acciones: 4\n",
      "Observación inicial: (36, {'prob': 1})\n"
     ]
    },
    {
     "name": "stderr",
     "output_type": "stream",
     "text": [
      "[3919933:3919933:0804/171656.315908:ERROR:ui/events/platform/wayland/wayland_event_watcher.cc:47] libwayland: warning: queue 0x336c0000ce00 destroyed while proxies still attached:\n",
      "\n",
      "[3919933:3919933:0804/171656.315991:ERROR:ui/events/platform/wayland/wayland_event_watcher.cc:47] libwayland:   wl_buffer#44 still attached\n",
      "\n",
      "[3919933:3919933:0804/171656.316023:ERROR:ui/events/platform/wayland/wayland_event_watcher.cc:47] libwayland:   wl_shm_pool#36 still attached\n",
      "\n"
     ]
    }
   ],
   "source": [
    "print(f\"Estados: {env.nS}, Acciones: {env.nA}\")\n",
    "\n",
    "obs = env.reset()\n",
    "print(\"Observación inicial:\", obs)\n",
    "\n",
    "img = env.render()\n",
    "\n",
    "Image.fromarray(img).show()"
   ]
  }
 ],
 "metadata": {
  "kernelspec": {
   "display_name": ".venv",
   "language": "python",
   "name": "python3"
  },
  "language_info": {
   "codemirror_mode": {
    "name": "ipython",
    "version": 3
   },
   "file_extension": ".py",
   "mimetype": "text/x-python",
   "name": "python",
   "nbconvert_exporter": "python",
   "pygments_lexer": "ipython3",
   "version": "3.10.10"
  }
 },
 "nbformat": 4,
 "nbformat_minor": 5
}
